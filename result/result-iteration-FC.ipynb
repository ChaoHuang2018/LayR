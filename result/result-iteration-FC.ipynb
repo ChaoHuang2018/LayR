{
 "cells": [
  {
   "cell_type": "code",
   "execution_count": 7,
   "metadata": {},
   "outputs": [],
   "source": [
    "import json\n",
    "import copy"
   ]
  },
  {
   "cell_type": "code",
   "execution_count": 42,
   "metadata": {},
   "outputs": [],
   "source": [
    "with open('mnist_FC5_1.json', 'r') as f:\n",
    "    mnist1 = json.load(f)\n",
    "with open('mnist_FC5_2.json', 'r') as f:\n",
    "    mnist2 = json.load(f)\n",
    "with open('mnist_FC5_3.json', 'r') as f:\n",
    "    mnist3 = json.load(f)\n",
    "with open('mnist_FC5_4.json', 'r') as f:\n",
    "    mnist4 = json.load(f)\n",
    "with open('mnist_FC7_1.json', 'r') as f:\n",
    "    mnist5 = json.load(f)\n",
    "with open('mnist_FC7_2.json', 'r') as f:\n",
    "    mnist6 = json.load(f)\n",
    "with open('mnist_FC7_3.json', 'r') as f:\n",
    "    mnist7 = json.load(f)\n",
    "with open('mnist_FC7_4.json', 'r') as f:\n",
    "    mnist8 = json.load(f)\n",
    "\n",
    "mnist = {}\n",
    "mnist['model_MNIST_CNN_Large'] = {}\n",
    "mnist['model_MNIST_CNN_Small'] = mnist1['model_MNIST_FC5_100_sigmoid']\n",
    "mnist['model_MNIST_CNN_Small']['1'] = mnist2['model_MNIST_FC5_100_sigmoid']['1']\n",
    "mnist['model_MNIST_CNN_Small']['2'] = mnist3['model_MNIST_FC5_100_sigmoid']['2']\n",
    "mnist['model_MNIST_CNN_Small']['3'] = mnist4['model_MNIST_FC5_100_sigmoid']['3']\n",
    "\n",
    "mnist['model_MNIST_CNN_Large']['0'] = mnist5['model_MNIST_FC7_100_sigmoid']['0']\n",
    "mnist['model_MNIST_CNN_Large']['1'] = mnist6['model_MNIST_FC7_100_sigmoid']['1']\n",
    "mnist['model_MNIST_CNN_Large']['2'] = mnist7['model_MNIST_FC7_100_sigmoid']['2']\n",
    "mnist['model_MNIST_CNN_Large']['3'] = mnist8['model_MNIST_FC7_100_sigmoid']['3']"
   ]
  },
  {
   "cell_type": "code",
   "execution_count": 43,
   "metadata": {},
   "outputs": [],
   "source": [
    "import numpy as np\n",
    "import matplotlib.pyplot as plt\n",
    "import matplotlib\n",
    "%matplotlib inline"
   ]
  },
  {
   "cell_type": "code",
   "execution_count": 44,
   "metadata": {},
   "outputs": [],
   "source": [
    "data_0 = [[mnist['model_MNIST_CNN_Small']['0']['old_range'], mnist['model_MNIST_CNN_Large']['0']['old_range']],\n",
    "          [mnist['model_MNIST_CNN_Small']['0']['new_range']['it0'], mnist['model_MNIST_CNN_Large']['0']['new_range']['it0']],\n",
    "          [mnist['model_MNIST_CNN_Small']['0']['new_range']['it1'], mnist['model_MNIST_CNN_Large']['0']['new_range']['it1']]]\n",
    "data_1 = [[mnist['model_MNIST_CNN_Small']['1']['old_range'], mnist['model_MNIST_CNN_Large']['1']['old_range']],\n",
    "          [mnist['model_MNIST_CNN_Small']['1']['new_range']['it0'], mnist['model_MNIST_CNN_Large']['1']['new_range']['it0']],\n",
    "          [mnist['model_MNIST_CNN_Small']['1']['new_range']['it1'], mnist['model_MNIST_CNN_Large']['1']['new_range']['it1']]]\n",
    "data_2 = [[mnist['model_MNIST_CNN_Small']['2']['old_range'], mnist['model_MNIST_CNN_Large']['2']['old_range']],\n",
    "          [mnist['model_MNIST_CNN_Small']['2']['new_range']['it0'], mnist['model_MNIST_CNN_Large']['2']['new_range']['it0']],\n",
    "          [mnist['model_MNIST_CNN_Small']['2']['new_range']['it1'], mnist['model_MNIST_CNN_Large']['2']['new_range']['it1']]]\n",
    "data_3 = [[mnist['model_MNIST_CNN_Small']['3']['old_range'], mnist['model_MNIST_CNN_Large']['3']['old_range']],\n",
    "          [mnist['model_MNIST_CNN_Small']['3']['new_range']['it0'], mnist['model_MNIST_CNN_Large']['3']['new_range']['it0']],\n",
    "          [mnist['model_MNIST_CNN_Small']['3']['new_range']['it1'], mnist['model_MNIST_CNN_Large']['3']['new_range']['it1']]]"
   ]
  },
  {
   "cell_type": "code",
   "execution_count": 58,
   "metadata": {},
   "outputs": [
    {
     "data": {
      "text/plain": [
       "[[[7.593246393052325, 11.457115599287638],\n",
       "  [9.948538494792755, 11.135768896096495]],\n",
       " [[8.762382022047715, 11.315749511374051],\n",
       "  [10.289468548345432, 11.037160669327385]],\n",
       " [[8.899586572957128, 11.30775823310849],\n",
       "  [10.289468548345432, 11.037160669327385]]]"
      ]
     },
     "execution_count": 58,
     "metadata": {},
     "output_type": "execute_result"
    }
   ],
   "source": [
    "data_3"
   ]
  },
  {
   "cell_type": "code",
   "execution_count": 46,
   "metadata": {},
   "outputs": [
    {
     "data": {
      "text/plain": [
       "{'FNN1': [[380.0016791820526, 688.1241900920868],\n",
       "  [350.0871694087982, 575.1005983352661],\n",
       "  [383.11907744407654, 593.7969832420349],\n",
       "  [411.62716841697693, 645.9398033618927]],\n",
       " 'FNN2': [[452.3591618537903, 748.3819236755371],\n",
       "  [577.0009226799011, 1079.1052072048187],\n",
       "  [488.87425899505615, 785.3063097000122],\n",
       "  [585.2789373397827, 2078.120485305786]]}"
      ]
     },
     "execution_count": 46,
     "metadata": {},
     "output_type": "execute_result"
    }
   ],
   "source": [
    "runtime = {}\n",
    "runtime['FNN1'] = []\n",
    "for idxImage in range(4):\n",
    "    times = []\n",
    "    data = mnist['model_MNIST_CNN_Small'][str(idxImage)]['new_range']['time']\n",
    "    for key in data:\n",
    "        times.append(data[key])\n",
    "    runtime['FNN1'].append(times)\n",
    "runtime['FNN2'] = []\n",
    "for idxImage in range(4):\n",
    "    times = []\n",
    "    data = mnist['model_MNIST_CNN_Large'][str(idxImage)]['new_range']['time']\n",
    "    for key in data:\n",
    "        times.append(data[key])\n",
    "    runtime['FNN2'].append(times)\n",
    "runtime"
   ]
  },
  {
   "cell_type": "code",
   "execution_count": 47,
   "metadata": {},
   "outputs": [
    {
     "data": {
      "text/plain": [
       "{'FNN1': array([1068.12586927,  925.18776774,  976.91606069, 1057.56697178]),\n",
       " 'FNN2': array([1200.74108553, 1656.10612988, 1274.1805687 , 2663.39942265])}"
      ]
     },
     "execution_count": 47,
     "metadata": {},
     "output_type": "execute_result"
    }
   ],
   "source": [
    "total_time = {}\n",
    "for key in runtime:\n",
    "    total_time[key] = np.sum(runtime[key], axis=1)\n",
    "total_time"
   ]
  },
  {
   "cell_type": "code",
   "execution_count": 48,
   "metadata": {},
   "outputs": [
    {
     "data": {
      "text/plain": [
       "{'FNN1': [1135.8460144996643,\n",
       "  941.5164682865143,\n",
       "  1020.024777173996,\n",
       "  1081.118870973587],\n",
       " 'FNN2': [1423.7594454288483,\n",
       "  1686.541298866272,\n",
       "  1408.863136291504,\n",
       "  2681.7198960781097]}"
      ]
     },
     "execution_count": 48,
     "metadata": {},
     "output_type": "execute_result"
    }
   ],
   "source": [
    "total_runtime = {}\n",
    "total_runtime['FNN1'] = []\n",
    "for idxImage in range(4):\n",
    "    times = mnist['model_MNIST_CNN_Small'][str(idxImage)]['runtime']\n",
    "    total_runtime['FNN1'].append(times)\n",
    "total_runtime['FNN2'] = []\n",
    "for idxImage in range(4):\n",
    "    times = mnist['model_MNIST_CNN_Large'][str(idxImage)]['runtime']\n",
    "    total_runtime['FNN2'].append(times)\n",
    "total_runtime"
   ]
  },
  {
   "cell_type": "code",
   "execution_count": 49,
   "metadata": {},
   "outputs": [
    {
     "data": {
      "text/plain": [
       "{'FNN1': array([67.72014523, 16.32870054, 43.10871649, 23.55189919]),\n",
       " 'FNN2': array([223.0183599 ,  30.43516898, 134.6825676 ,  18.32047343])}"
      ]
     },
     "execution_count": 49,
     "metadata": {},
     "output_type": "execute_result"
    }
   ],
   "source": [
    "eran_time = {}\n",
    "for key in total_runtime:\n",
    "    eran_time[key] = np.array(total_runtime[key]) - total_time[key]\n",
    "eran_time"
   ]
  },
  {
   "cell_type": "code",
   "execution_count": 50,
   "metadata": {},
   "outputs": [],
   "source": [
    "labels = ['FNN1', 'FNN2']\n",
    "data00 = np.diff(data_0).reshape(3, 2)[0]\n",
    "data01 = np.diff(data_0).reshape(3, 2)[1]\n",
    "data02 = np.diff(data_0).reshape(3, 2)[2]\n",
    "\n",
    "data10 = np.diff(data_1).reshape(3, 2)[0]\n",
    "data11 = np.diff(data_1).reshape(3, 2)[1]\n",
    "data12 = np.diff(data_1).reshape(3, 2)[2]\n",
    "\n",
    "data20 = np.diff(data_2).reshape(3, 2)[0]\n",
    "data21 = np.diff(data_2).reshape(3, 2)[1]\n",
    "data22 = np.diff(data_2).reshape(3, 2)[2]\n",
    "\n",
    "data30 = np.diff(data_3).reshape(3, 2)[0]\n",
    "data31 = np.diff(data_3).reshape(3, 2)[1]\n",
    "data32 = np.diff(data_3).reshape(3, 2)[2]"
   ]
  },
  {
   "cell_type": "code",
   "execution_count": 72,
   "metadata": {},
   "outputs": [
    {
     "data": {
      "text/plain": [
       "array([37.6746072 , 37.02215508])"
      ]
     },
     "execution_count": 72,
     "metadata": {},
     "output_type": "execute_result"
    }
   ],
   "source": [
    "(1 - data32/data30) * 100"
   ]
  },
  {
   "cell_type": "markdown",
   "metadata": {},
   "source": [
    "x = np.arange(len(labels))\n",
    "width = 0.8"
   ]
  },
  {
   "cell_type": "code",
   "execution_count": 54,
   "metadata": {},
   "outputs": [
    {
     "data": {
      "image/png": "[encoded data removed]",
      "text/plain": [
       "<matplotlib.figure.Figure at 0x7f42994d23c8>"
      ]
     },
     "metadata": {},
     "output_type": "display_data"
    }
   ],
   "source": [
    "fig, axs = plt.subplots(2, 2, figsize=(9,6+3/4))\n",
    "axs_twin = []\n",
    "for idx1 in range(2):\n",
    "    for idx2 in range(2):\n",
    "        axs[idx1, idx2].set_ylabel('Volume')\n",
    "        axs_twin.append(axs[idx1, idx2].twinx())\n",
    "        axs_twin[-1].set_ylabel('Time (s)')\n",
    "        axs_twin[-1].set_ylim((0, 5000))\n",
    "        axs_twin[-1].ticklabel_format(style='sci', scilimits=(0,3), axis='y', useMathText=True)\n",
    "\n",
    "rects00 = axs[0, 0].bar(x - width/3, data00, width/3, label='initial range')\n",
    "rects01 = axs[0, 0].bar(x, data01, width/3, label='it-1')\n",
    "rects02 = axs[0, 0].bar(x + width/3, data02, width/3, label='it-2')\n",
    "\n",
    "rects10 = axs[0, 1].bar(x - width/3, data10, width/3, label='initial range')\n",
    "rects11 = axs[0, 1].bar(x, data11, width/3, label='it-1')\n",
    "rects12 = axs[0, 1].bar(x + width/3, data12, width/3, label='it-2')\n",
    "\n",
    "rects20 = axs[1, 0].bar(x - width/3, data20, width/3, label='initial range')\n",
    "rects21 = axs[1, 0].bar(x, data21, width/3, label='it-1')\n",
    "rects22 = axs[1, 0].bar(x + width/3, data22, width/3, label='it-2')\n",
    "\n",
    "rects30 = axs[1, 1].bar(x - width/3, data30, width/3, label='initial range')\n",
    "rects31 = axs[1, 1].bar(x, data31, width/3, label='it-1')\n",
    "rects32 = axs[1, 1].bar(x + width/3, data32, width/3, label='it-2')\n",
    "\n",
    "\n",
    "point_x = {}\n",
    "for idxImage in range(4):\n",
    "    point_x[str(idxImage)] = {}\n",
    "\n",
    "for idxCNN in range(len(labels)):\n",
    "    point_x['0'][labels[idxCNN]] = [rects01[idxCNN].get_x() + rects01[idxCNN].get_width()/2.0,\n",
    "                                    rects02[idxCNN].get_x() + rects02[idxCNN].get_width()/2.0,]\n",
    "    \n",
    "\n",
    "for idxCNN in range(len(labels)):\n",
    "    point_x['1'][labels[idxCNN]] = [rects11[idxCNN].get_x() + rects11[idxCNN].get_width()/2.0,\n",
    "                                    rects12[idxCNN].get_x() + rects11[idxCNN].get_width()/2.0,]\n",
    "    \n",
    "\n",
    "for idxCNN in range(len(labels)):\n",
    "    point_x['2'][labels[idxCNN]] = [rects21[idxCNN].get_x() + rects01[idxCNN].get_width()/2.0,\n",
    "                                    rects22[idxCNN].get_x() + rects01[idxCNN].get_width()/2.0]\n",
    "    \n",
    "\n",
    "for idxCNN in range(len(labels)):\n",
    "    point_x['3'][labels[idxCNN]] = [rects31[idxCNN].get_x() + rects01[idxCNN].get_width()/2.0,\n",
    "                                    rects32[idxCNN].get_x() + rects01[idxCNN].get_width()/2.0]\n",
    "    \n",
    "for idxImage in range(4):\n",
    "    for label in labels:\n",
    "        axs_twin[idxImage].plot(point_x[str(idxImage)][label], runtime[label][idxImage], marker='o', color='#9c755f', label='runtime')\n",
    "        \n",
    "# Add some text for labels, title and custom x-axis tick labels, etc.\n",
    "for i in range(2):\n",
    "    for j in range(2):\n",
    "        axs[i, j].set_xticks(x)\n",
    "        axs[i, j].set_xticklabels(labels)\n",
    "        if i == 0 and j == 1:\n",
    "            h1, l1 = axs[i, j].get_legend_handles_labels()\n",
    "            h2, l2 = axs_twin[1].get_legend_handles_labels()\n",
    "            axs[i, j].legend(h1 + h2, l1+l2, loc='upper center', bbox_to_anchor=(-0.15, 1.25), ncol=4)\n",
    "plt.tight_layout(pad=2.0)\n",
    "fig.savefig(\"mnist_FC.pdf\", bbox_inches='tight')"
   ]
  },
  {
   "cell_type": "code",
   "execution_count": null,
   "metadata": {},
   "outputs": [],
   "source": []
  },
  {
   "cell_type": "code",
   "execution_count": null,
   "metadata": {},
   "outputs": [],
   "source": []
  }
 ],
 "metadata": {
  "kernelspec": {
   "display_name": "Bernsp",
   "language": "python",
   "name": "bernsp"
  },
  "language_info": {
   "codemirror_mode": {
    "name": "ipython",
    "version": 3
   },
   "file_extension": ".py",
   "mimetype": "text/x-python",
   "name": "python",
   "nbconvert_exporter": "python",
   "pygments_lexer": "ipython3",
   "version": "3.6.7"
  }
 },
 "nbformat": 4,
 "nbformat_minor": 2
}
