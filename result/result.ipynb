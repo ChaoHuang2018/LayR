{
 "cells": [
  {
   "cell_type": "code",
   "execution_count": 1,
   "metadata": {},
   "outputs": [],
   "source": [
    "import json"
   ]
  },
  {
   "cell_type": "code",
   "execution_count": 2,
   "metadata": {},
   "outputs": [],
   "source": [
    "with open('mnist_small.json', 'r') as f:\n",
    "    mnist_small = json.load(f)\n",
    "with open('mnist_medium.json', 'r') as f:\n",
    "    mnist_medium = json.load(f)\n",
    "with open('mnist.json', 'r') as f:\n",
    "    mnist_large = json.load(f)"
   ]
  },
  {
   "cell_type": "code",
   "execution_count": 3,
   "metadata": {},
   "outputs": [],
   "source": [
    "import numpy as np\n",
    "import matplotlib.pyplot as plt\n",
    "import matplotlib\n",
    "%matplotlib inline"
   ]
  },
  {
   "cell_type": "code",
   "execution_count": 4,
   "metadata": {},
   "outputs": [],
   "source": [
    "data_0 = [[mnist_small['model_MNIST_CNN_Small']['0']['old_range'], mnist_medium['model_MNIST_CNN_Medium']['0']['old_range'], mnist_large['model_MNIST_CNN_Large']['0']['old_range']],\n",
    "          [mnist_small['model_MNIST_CNN_Small']['0']['new_range'], mnist_medium['model_MNIST_CNN_Medium']['0']['new_range'], mnist_large['model_MNIST_CNN_Large']['0']['new_range']]]\n",
    "data_1 = [[mnist_small['model_MNIST_CNN_Small']['1']['old_range'], mnist_medium['model_MNIST_CNN_Medium']['1']['old_range'], mnist_large['model_MNIST_CNN_Large']['1']['old_range']],\n",
    "          [mnist_small['model_MNIST_CNN_Small']['1']['new_range'], mnist_medium['model_MNIST_CNN_Medium']['1']['new_range'], mnist_large['model_MNIST_CNN_Large']['1']['new_range']]]\n",
    "data_2 = [[mnist_small['model_MNIST_CNN_Small']['2']['old_range'], mnist_medium['model_MNIST_CNN_Medium']['2']['old_range'], mnist_large['model_MNIST_CNN_Large']['2']['old_range']],\n",
    "          [mnist_small['model_MNIST_CNN_Small']['2']['new_range'], mnist_medium['model_MNIST_CNN_Medium']['2']['new_range'], mnist_large['model_MNIST_CNN_Large']['2']['new_range']]]\n",
    "data_3 = [[mnist_small['model_MNIST_CNN_Small']['2']['old_range'], [-10.9411178,    7.78097927], mnist_large['model_MNIST_CNN_Large']['3']['old_range']],\n",
    "          [mnist_small['model_MNIST_CNN_Small']['2']['new_range'], [-6.1786112570084795, 2.5953918354548313], mnist_large['model_MNIST_CNN_Large']['3']['new_range']]]"
   ]
  },
  {
   "cell_type": "code",
   "execution_count": 5,
   "metadata": {},
   "outputs": [],
   "source": [
    "labels = ['CNN-1', 'CNN-2', 'CNN-3']\n",
    "data00 = np.diff(data_0).reshape(2, 3)[0]\n",
    "data01 = np.diff(data_0).reshape(2, 3)[1]\n",
    "\n",
    "data10 = np.diff(data_1).reshape(2, 3)[0]\n",
    "data11 = np.diff(data_1).reshape(2, 3)[1]\n",
    "\n",
    "data20 = np.diff(data_2).reshape(2, 3)[0]\n",
    "data21 = np.diff(data_2).reshape(2, 3)[1]\n",
    "\n",
    "data30 = np.diff(data_3).reshape(2, 3)[0]\n",
    "data31 = np.diff(data_3).reshape(2, 3)[1]"
   ]
  },
  {
   "cell_type": "code",
   "execution_count": 6,
   "metadata": {},
   "outputs": [],
   "source": [
    "x = np.arange(len(labels))\n",
    "width = 0.35"
   ]
  },
  {
   "cell_type": "code",
   "execution_count": 7,
   "metadata": {},
   "outputs": [
    {
     "data": {
      "image/png": "[encoded data removed]",
      "text/plain": [
       "<matplotlib.figure.Figure at 0x7fc798a73b00>"
      ]
     },
     "metadata": {},
     "output_type": "display_data"
    }
   ],
   "source": [
    "fig, axs = plt.subplots(2, 2)\n",
    "\n",
    "rects01 = axs[0, 0].bar(x - width/2, data00, width, label='old range')\n",
    "rects02 = axs[0, 0].bar(x + width/2, data01, width, label='new range')\n",
    "rects11 = axs[0, 1].bar(x - width/2, data10, width, label='old range')\n",
    "rects12 = axs[0, 1].bar(x + width/2, data11, width, label='new range')\n",
    "rects21 = axs[1, 0].bar(x - width/2, data20, width, label='old range')\n",
    "rects22 = axs[1, 0].bar(x + width/2, data21, width, label='new range')\n",
    "rects31 = axs[1, 1].bar(x - width/2, data30, width, label='old range')\n",
    "rects32 = axs[1, 1].bar(x + width/2, data31, width, label='new range')\n",
    "\n",
    "# Add some text for labels, title and custom x-axis tick labels, etc.\n",
    "for i in range(2):\n",
    "    for j in range(2):\n",
    "        axs[i, j].set_xticks(x)\n",
    "        axs[i, j].set_xticklabels(labels)\n",
    "        if i == 0 and j == 1:\n",
    "            axs[i, j].legend(loc='upper center', bbox_to_anchor=(-0.05, 1.5))\n",
    "plt.tight_layout()\n",
    "fig.savefig(\"mnist.png\", bbox_inches='tight')"
   ]
  }
 ],
 "metadata": {
  "kernelspec": {
   "display_name": "Bernsp",
   "language": "python",
   "name": "bernsp"
  },
  "language_info": {
   "codemirror_mode": {
    "name": "ipython",
    "version": 3
   },
   "file_extension": ".py",
   "mimetype": "text/x-python",
   "name": "python",
   "nbconvert_exporter": "python",
   "pygments_lexer": "ipython3",
   "version": "3.6.7"
  }
 },
 "nbformat": 4,
 "nbformat_minor": 2
}
