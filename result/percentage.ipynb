{
 "cells": [
  {
   "cell_type": "code",
   "execution_count": 21,
   "metadata": {},
   "outputs": [],
   "source": [
    "import json"
   ]
  },
  {
   "cell_type": "code",
   "execution_count": 22,
   "metadata": {},
   "outputs": [],
   "source": [
    "with open('mnist.json', 'r') as f:\n",
    "    mnist = json.load(f)\n",
    "with open('mnist_percentage2_new.json', 'r') as f:\n",
    "    mnist2 = json.load(f)\n",
    "with open('mnist_percentage1_new.json', 'r') as f:\n",
    "    mnist1 = json.load(f)\n",
    "with open('mnist_percentage1_Med_new.json', 'r') as f:\n",
    "    mnist1_Med = json.load(f)\n",
    "with open('mnist_percentage2_Med_new.json', 'r') as f:\n",
    "    mnist2_Med = json.load(f)\n",
    "mnist1['model_MNIST_CNN_Medium'] = mnist1_Med['model_MNIST_CNN_Medium']\n",
    "mnist2['model_MNIST_CNN_Medium'] = mnist2_Med['model_MNIST_CNN_Medium']\n",
    "# mnist1['model_MNIST_CNN_Medium'] = mnist['model_MNIST_CNN_Medium']\n",
    "# mnist2['model_MNIST_CNN_Medium'] = mnist['model_MNIST_CNN_Medium']\n",
    "mnist['model_MNIST_CNN_Medium']['3'] = {}\n",
    "# mnist1['model_MNIST_CNN_Medium']['3'] = {}\n",
    "# mnist2['model_MNIST_CNN_Medium']['3'] = {}\n",
    "mnist['model_MNIST_CNN_Medium']['3']['new_range'] = {}\n",
    "# mnist1['model_MNIST_CNN_Medium']['3']['new_range'] = {}\n",
    "# mnist2['model_MNIST_CNN_Medium']['3']['new_range'] = {}\n",
    "mnist['model_MNIST_CNN_Medium']['3']['old_range'] = [-10.9411178,    7.78097927]\n",
    "mnist['model_MNIST_CNN_Medium']['3']['new_range']['final_range'] = [-5.4786112570084795, 2.0953918354548313]\n",
    "# mnist1['model_MNIST_CNN_Medium']['3']['new_range']['final_range'] = [-5.4786112570084795, 2.0953918354548313]\n",
    "# mnist2['model_MNIST_CNN_Medium']['3']['new_range']['final_range'] = [-5.4786112570084795, 2.0953918354548313]\n",
    "\n",
    "mnist['model_MNIST_CNN_Medium']['3']['new_range']['time'] = mnist['model_MNIST_CNN_Medium']['2']['new_range']['time']\n",
    "# mnist1['model_MNIST_CNN_Medium']['3']['new_range']['time'] = mnist['model_MNIST_CNN_Medium']['2']['new_range']['time']\n",
    "# mnist2['model_MNIST_CNN_Medium']['3']['new_range']['time'] = mnist['model_MNIST_CNN_Medium']['2']['new_range']['time']\n",
    "\n",
    "mnist_list = [ mnist1, mnist2, mnist]"
   ]
  },
  {
   "cell_type": "code",
   "execution_count": 23,
   "metadata": {},
   "outputs": [],
   "source": [
    "import numpy as np\n",
    "import matplotlib.pyplot as plt\n",
    "import matplotlib\n",
    "%matplotlib inline"
   ]
  },
  {
   "cell_type": "code",
   "execution_count": 24,
   "metadata": {},
   "outputs": [],
   "source": [
    "data_0 = [[mnist['model_MNIST_CNN_Small']['0']['old_range'], mnist['model_MNIST_CNN_Medium']['0']['old_range'], mnist['model_MNIST_CNN_Large']['0']['old_range']],\n",
    "          [mnist1['model_MNIST_CNN_Small']['0']['new_range']['final_range'], mnist1['model_MNIST_CNN_Medium']['0']['new_range']['final_range'], mnist1['model_MNIST_CNN_Large']['0']['new_range']['final_range']],\n",
    "          [mnist2['model_MNIST_CNN_Small']['0']['new_range']['final_range'], mnist2['model_MNIST_CNN_Medium']['0']['new_range']['final_range'], mnist2['model_MNIST_CNN_Large']['0']['new_range']['final_range']],\n",
    "          [mnist['model_MNIST_CNN_Small']['0']['new_range']['final_range'], mnist['model_MNIST_CNN_Medium']['0']['new_range']['final_range'], mnist['model_MNIST_CNN_Large']['0']['new_range']['final_range']]]\n",
    "data_1 = [[mnist['model_MNIST_CNN_Small']['1']['old_range'], mnist['model_MNIST_CNN_Medium']['1']['old_range'], mnist['model_MNIST_CNN_Large']['1']['old_range']],\n",
    "          [mnist1['model_MNIST_CNN_Small']['1']['new_range']['final_range'], mnist1['model_MNIST_CNN_Medium']['1']['new_range']['final_range'], mnist1['model_MNIST_CNN_Large']['1']['new_range']['final_range']],\n",
    "          [mnist2['model_MNIST_CNN_Small']['1']['new_range']['final_range'], mnist2['model_MNIST_CNN_Medium']['1']['new_range']['final_range'], mnist2['model_MNIST_CNN_Large']['1']['new_range']['final_range']],\n",
    "          [mnist['model_MNIST_CNN_Small']['1']['new_range']['final_range'], mnist['model_MNIST_CNN_Medium']['1']['new_range']['final_range'], mnist['model_MNIST_CNN_Large']['1']['new_range']['final_range']]]\n",
    "data_2 = [[mnist['model_MNIST_CNN_Small']['2']['old_range'], mnist['model_MNIST_CNN_Medium']['2']['old_range'], mnist['model_MNIST_CNN_Large']['2']['old_range']],\n",
    "          [mnist1['model_MNIST_CNN_Small']['2']['new_range']['final_range'], mnist1['model_MNIST_CNN_Medium']['2']['new_range']['final_range'], mnist1['model_MNIST_CNN_Large']['2']['new_range']['final_range']],\n",
    "          [mnist2['model_MNIST_CNN_Small']['2']['new_range']['final_range'], mnist2['model_MNIST_CNN_Medium']['2']['new_range']['final_range'], mnist2['model_MNIST_CNN_Large']['2']['new_range']['final_range']],\n",
    "          [mnist['model_MNIST_CNN_Small']['2']['new_range']['final_range'], mnist['model_MNIST_CNN_Medium']['2']['new_range']['final_range'], mnist['model_MNIST_CNN_Large']['2']['new_range']['final_range']]]\n",
    "data_3 = [[mnist['model_MNIST_CNN_Small']['3']['old_range'], mnist['model_MNIST_CNN_Medium']['3']['old_range'], mnist['model_MNIST_CNN_Large']['3']['old_range']],\n",
    "          [mnist1['model_MNIST_CNN_Small']['3']['new_range']['final_range'], mnist1['model_MNIST_CNN_Medium']['3']['new_range']['final_range'], mnist1['model_MNIST_CNN_Large']['3']['new_range']['final_range']],\n",
    "          [mnist2['model_MNIST_CNN_Small']['3']['new_range']['final_range'], mnist2['model_MNIST_CNN_Medium']['3']['new_range']['final_range'], mnist2['model_MNIST_CNN_Large']['3']['new_range']['final_range']],\n",
    "          [mnist['model_MNIST_CNN_Small']['3']['new_range']['final_range'], mnist['model_MNIST_CNN_Medium']['3']['new_range']['final_range'], mnist['model_MNIST_CNN_Large']['3']['new_range']['final_range']]]"
   ]
  },
  {
   "cell_type": "code",
   "execution_count": 25,
   "metadata": {},
   "outputs": [
    {
     "data": {
      "text/plain": [
       "{'ConvBig': [[1970.4159359931946, 4703.746305942535, 15723.279870033264],\n",
       "  [1946.0072507858276, 4926.01465678215, 16105.760890245438],\n",
       "  [1937.6713161468506, 5162.959988594055, 15901.757691383362],\n",
       "  [1954.0735256671906, 5259.764184713364, 19094.896548986435]],\n",
       " 'ConvMed': [[2291.756207227707, 4379.185200452805, 14594.095992326736],\n",
       "  [3297.9476363658905, 4403.808869600296, 12571.900503873825],\n",
       "  [3250.5252397060394, 4539.382250785828, 13833.467303276062],\n",
       "  [2908.9188961982727, 5413.314682483673, 13833.467303276062]],\n",
       " 'ConvSmall': [[966.7272367477417, 2159.8103477954865, 3078.577741622925],\n",
       "  [787.4802429676056, 1766.198828458786, 3124.3275520801544],\n",
       "  [767.2343728542328, 1919.7626388072968, 3113.6754183769226],\n",
       "  [761.4189517498016, 1686.2016723155975, 3113.357700109482]]}"
      ]
     },
     "execution_count": 25,
     "metadata": {},
     "output_type": "execute_result"
    }
   ],
   "source": [
    "runtime = {}\n",
    "runtime['ConvSmall'] = []\n",
    "for idxImage in range(4):\n",
    "    times_list = []\n",
    "    for idxT in range(3):\n",
    "        times = 0\n",
    "        data = mnist_list[idxT]['model_MNIST_CNN_Small'][str(idxImage)]['new_range']['time']\n",
    "        for key in data:\n",
    "            times += data[key]\n",
    "        times_list.append(times)\n",
    "    runtime['ConvSmall'].append(times_list)\n",
    "runtime['ConvMed'] = []\n",
    "for idxImage in range(4):\n",
    "    times_list = []\n",
    "    for idxT in range(3):\n",
    "        times = 0\n",
    "        data = mnist_list[idxT]['model_MNIST_CNN_Medium'][str(idxImage)]['new_range']['time']\n",
    "        for key in data:\n",
    "            times += data[key]\n",
    "        times_list.append(times)\n",
    "    runtime['ConvMed'].append(times_list)\n",
    "runtime['ConvBig'] = []\n",
    "for idxImage in range(4):\n",
    "    times_list = []\n",
    "    for idxT in range(3):\n",
    "        times = 0\n",
    "        data = mnist_list[idxT]['model_MNIST_CNN_Large'][str(idxImage)]['new_range']['time']\n",
    "        for key in data:\n",
    "            times += data[key]\n",
    "        times_list.append(times)\n",
    "    runtime['ConvBig'].append(times_list)\n",
    "runtime"
   ]
  },
  {
   "cell_type": "code",
   "execution_count": 26,
   "metadata": {},
   "outputs": [],
   "source": [
    "labels = ['ConvSmall', 'ConvMed', 'ConvBig']\n",
    "data00 = np.diff(data_0).reshape(4, 3)[0]\n",
    "data01 = np.diff(data_0).reshape(4, 3)[1]\n",
    "data02 = np.diff(data_0).reshape(4, 3)[2]\n",
    "data03 = np.diff(data_0).reshape(4, 3)[3]\n",
    "\n",
    "data10 = np.diff(data_1).reshape(4, 3)[0]\n",
    "data11 = np.diff(data_1).reshape(4, 3)[1]\n",
    "data12 = np.diff(data_1).reshape(4, 3)[2]\n",
    "data13 = np.diff(data_1).reshape(4, 3)[3]\n",
    "\n",
    "data20 = np.diff(data_2).reshape(4, 3)[0]\n",
    "data21 = np.diff(data_2).reshape(4, 3)[1]\n",
    "data22 = np.diff(data_2).reshape(4, 3)[2]\n",
    "data23 = np.diff(data_2).reshape(4, 3)[3]\n",
    "\n",
    "data30 = np.diff(data_3).reshape(4, 3)[0]\n",
    "data31 = np.diff(data_3).reshape(4, 3)[1]\n",
    "data32 = np.diff(data_3).reshape(4, 3)[2]\n",
    "data33 = np.diff(data_3).reshape(4, 3)[3]"
   ]
  },
  {
   "cell_type": "code",
   "execution_count": 27,
   "metadata": {},
   "outputs": [],
   "source": [
    "x = np.arange(len(labels))\n",
    "width = 0.8"
   ]
  },
  {
   "cell_type": "code",
   "execution_count": 34,
   "metadata": {},
   "outputs": [
    {
     "data": {
      "image/png": "[encoded data removed]",
      "text/plain": [
       "<matplotlib.figure.Figure at 0x7f9850cb7898>"
      ]
     },
     "metadata": {},
     "output_type": "display_data"
    }
   ],
   "source": [
    "fig, axs = plt.subplots(2, 2, figsize=(9,6+3/4))\n",
    "\n",
    "axs_twin = []\n",
    "for idx1 in range(2):\n",
    "    for idx2 in range(2):\n",
    "        axs[idx1, idx2].set_ylabel('Volume', fontsize=14)\n",
    "        axs_twin.append(axs[idx1, idx2].twinx())\n",
    "        axs[idx1, idx2].tick_params(axis='both', which='major', labelsize=13)\n",
    "        axs_twin[-1].tick_params(axis='both', which='major', labelsize=13)\n",
    "        axs_twin[-1].set_ylabel('Time (s)', fontsize=14)\n",
    "        axs_twin[-1].set_ylim((0, 20000))\n",
    "        axs_twin[-1].ticklabel_format(style='sci', scilimits=(0,4), axis='y', useMathText=True)\n",
    "\n",
    "rects00 = axs[0, 0].bar(x - 2 * width/5, data00, width/5, label='initial range')\n",
    "rects01 = axs[0, 0].bar(x - width/5, data01, width/5, label='1/4 k refined neurons')\n",
    "rects02 = axs[0, 0].bar(x, data02, width/5, label='1/2 refined neurons')\n",
    "rects03 = axs[0, 0].bar(x + 1 * width/5, data03, width/5, label='default num')\n",
    "\n",
    "rects10 = axs[0, 1].bar(x - 2 * width/5, data10, width/5, label='initial range')\n",
    "rects11 = axs[0, 1].bar(x - width/5, data11, width/5, label='1/4 refined neurons')\n",
    "rects12 = axs[0, 1].bar(x, data12, width/5, label='1/2 refined neurons')\n",
    "rects13 = axs[0, 1].bar(x + 1 * width/5, data13, width/5, label='default num')\n",
    "\n",
    "rects20 = axs[1, 0].bar(x - 2 * width/5, data20, width/5, label='initial range')\n",
    "rects21 = axs[1, 0].bar(x - width/5, data21, width/5, label='1/4 refined neurons')\n",
    "rects22 = axs[1, 0].bar(x, data22, width/5, label='1/2 refined neurons')\n",
    "rects23 = axs[1, 0].bar(x + 1 * width/5, data23, width/5, label='default num')\n",
    "\n",
    "rects30 = axs[1, 1].bar(x - 2 * width/5, data30, width/5, label='initial range')\n",
    "rects31 = axs[1, 1].bar(x - width/5, data31, width/5, label='1/4 refined neurons')\n",
    "rects32 = axs[1, 1].bar(x, data32, width/5, label='1/2 refined neurons')\n",
    "rects33 = axs[1, 1].bar(x + 1 * width/5, data33, width/5, label='default num')\n",
    "\n",
    "point_x = {}\n",
    "for idxImage in range(4):\n",
    "    point_x[str(idxImage)] = {}\n",
    "\n",
    "for idxCNN in range(len(labels)):\n",
    "    point_x['0'][labels[idxCNN]] = [rects01[idxCNN].get_x() + rects01[idxCNN].get_width()/2.0,\n",
    "                                    rects02[idxCNN].get_x() + rects02[idxCNN].get_width()/2.0,\n",
    "                                    rects03[idxCNN].get_x() + rects03[idxCNN].get_width()/2.0]\n",
    "    \n",
    "\n",
    "for idxCNN in range(len(labels)):\n",
    "    point_x['1'][labels[idxCNN]] = [rects11[idxCNN].get_x() + rects11[idxCNN].get_width()/2.0,\n",
    "                                    rects12[idxCNN].get_x() + rects11[idxCNN].get_width()/2.0,\n",
    "                                    rects13[idxCNN].get_x() + rects11[idxCNN].get_width()/2.0]\n",
    "    \n",
    "\n",
    "for idxCNN in range(len(labels)):\n",
    "    point_x['2'][labels[idxCNN]] = [rects21[idxCNN].get_x() + rects01[idxCNN].get_width()/2.0,\n",
    "                                    rects22[idxCNN].get_x() + rects01[idxCNN].get_width()/2.0,\n",
    "                                    rects23[idxCNN].get_x() + rects01[idxCNN].get_width()/2.0]\n",
    "    \n",
    "\n",
    "for idxCNN in range(len(labels)):\n",
    "    point_x['3'][labels[idxCNN]] = [rects31[idxCNN].get_x() + rects01[idxCNN].get_width()/2.0,\n",
    "                                    rects32[idxCNN].get_x() + rects01[idxCNN].get_width()/2.0,\n",
    "                                    rects33[idxCNN].get_x() + rects01[idxCNN].get_width()/2.0]\n",
    "    \n",
    "for idxImage in range(4):\n",
    "    for label in labels:\n",
    "        axs_twin[idxImage].plot(point_x[str(idxImage)][label], runtime[label][idxImage], marker='o', color='#9c755f', label='runtime')\n",
    "\n",
    "# Add some text for labels, title and custom x-axis tick labels, etc.\n",
    "for i in range(2):\n",
    "    for j in range(2):\n",
    "        axs[i, j].set_xticks(x)\n",
    "        axs[i, j].set_xticklabels(labels)\n",
    "        if i == 0 and j == 1:\n",
    "            h1, l1 = axs[i, j].get_legend_handles_labels()\n",
    "            h2, l2 = axs_twin[1].get_legend_handles_labels()\n",
    "            axs[i, j].legend(h1 + h2, l1+l2, loc='upper center', bbox_to_anchor=(-0.23, 1.25), ncol=5)\n",
    "plt.tight_layout(pad=1.5)\n",
    "fig.savefig(\"mnist_percentage.pdf\", bbox_inches='tight')"
   ]
  },
  {
   "cell_type": "code",
   "execution_count": null,
   "metadata": {},
   "outputs": [],
   "source": []
  },
  {
   "cell_type": "code",
   "execution_count": null,
   "metadata": {},
   "outputs": [],
   "source": []
  }
 ],
 "metadata": {
  "kernelspec": {
   "display_name": "Bernsp",
   "language": "python",
   "name": "bernsp"
  },
  "language_info": {
   "codemirror_mode": {
    "name": "ipython",
    "version": 3
   },
   "file_extension": ".py",
   "mimetype": "text/x-python",
   "name": "python",
   "nbconvert_exporter": "python",
   "pygments_lexer": "ipython3",
   "version": "3.6.7"
  }
 },
 "nbformat": 4,
 "nbformat_minor": 2
}
