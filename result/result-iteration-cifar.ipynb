{
 "cells": [
  {
   "cell_type": "code",
   "execution_count": 1,
   "metadata": {},
   "outputs": [],
   "source": [
    "import json"
   ]
  },
  {
   "cell_type": "code",
   "execution_count": 2,
   "metadata": {},
   "outputs": [],
   "source": [
    "with open('cifar_med.json', 'r') as f:\n",
    "    mnist = json.load(f)\n",
    "with open('cifar.json', 'r') as f:\n",
    "    cifar = json.load(f)\n",
    "mnist['model_CIFAR_CNN_Large'] = cifar['model_CIFAR_CNN_Large']"
   ]
  },
  {
   "cell_type": "code",
   "execution_count": 3,
   "metadata": {},
   "outputs": [],
   "source": [
    "import numpy as np\n",
    "import matplotlib.pyplot as plt\n",
    "import matplotlib\n",
    "%matplotlib inline"
   ]
  },
  {
   "cell_type": "code",
   "execution_count": 4,
   "metadata": {},
   "outputs": [],
   "source": [
    "data_0 = [[mnist['model_CIFAR_CNN_Medium']['0']['old_range'], mnist['model_CIFAR_CNN_Large']['0']['old_range']],\n",
    "          [mnist['model_CIFAR_CNN_Medium']['0']['new_range']['it0'], mnist['model_CIFAR_CNN_Large']['0']['new_range']['it0']],\n",
    "          [mnist['model_CIFAR_CNN_Medium']['0']['new_range']['it1'], mnist['model_CIFAR_CNN_Large']['0']['new_range']['it1']],\n",
    "          [mnist['model_CIFAR_CNN_Medium']['0']['new_range']['it2'], mnist['model_CIFAR_CNN_Large']['0']['new_range']['it2']],\n",
    "          [mnist['model_CIFAR_CNN_Medium']['0']['new_range']['it3'], mnist['model_CIFAR_CNN_Large']['0']['new_range']['it3']]]\n",
    "data_1 = [[mnist['model_CIFAR_CNN_Medium']['1']['old_range'], mnist['model_CIFAR_CNN_Large']['1']['old_range']],\n",
    "          [mnist['model_CIFAR_CNN_Medium']['1']['new_range']['it0'], mnist['model_CIFAR_CNN_Large']['1']['new_range']['it0']],\n",
    "          [mnist['model_CIFAR_CNN_Medium']['1']['new_range']['it1'], mnist['model_CIFAR_CNN_Large']['1']['new_range']['it1']],\n",
    "          [mnist['model_CIFAR_CNN_Medium']['1']['new_range']['it2'], mnist['model_CIFAR_CNN_Large']['1']['new_range']['it2']],\n",
    "          [mnist['model_CIFAR_CNN_Medium']['1']['new_range']['it3'], mnist['model_CIFAR_CNN_Large']['1']['new_range']['it3']],]\n",
    "data_2 = [[mnist['model_CIFAR_CNN_Medium']['2']['old_range'], mnist['model_CIFAR_CNN_Large']['2']['old_range']],\n",
    "          [mnist['model_CIFAR_CNN_Medium']['2']['new_range']['it0'], mnist['model_CIFAR_CNN_Large']['2']['new_range']['it0']],\n",
    "          [mnist['model_CIFAR_CNN_Medium']['2']['new_range']['it1'], mnist['model_CIFAR_CNN_Large']['2']['new_range']['it1']],\n",
    "          [mnist['model_CIFAR_CNN_Medium']['2']['new_range']['it2'], mnist['model_CIFAR_CNN_Large']['2']['new_range']['it2']],\n",
    "          [mnist['model_CIFAR_CNN_Medium']['2']['new_range']['it3'], mnist['model_CIFAR_CNN_Large']['2']['new_range']['it3']],]\n",
    "data_3 = [[mnist['model_CIFAR_CNN_Medium']['3']['old_range'], mnist['model_CIFAR_CNN_Large']['3']['old_range']],\n",
    "          [mnist['model_CIFAR_CNN_Medium']['3']['new_range']['it0'], mnist['model_CIFAR_CNN_Large']['3']['new_range']['it0']],\n",
    "          [mnist['model_CIFAR_CNN_Medium']['3']['new_range']['it1'], mnist['model_CIFAR_CNN_Large']['3']['new_range']['it1']],\n",
    "          [mnist['model_CIFAR_CNN_Medium']['3']['new_range']['it2'], mnist['model_CIFAR_CNN_Large']['3']['new_range']['it2']],\n",
    "          [mnist['model_CIFAR_CNN_Medium']['3']['new_range']['it3'], mnist['model_CIFAR_CNN_Large']['3']['new_range']['it3']]]"
   ]
  },
  {
   "cell_type": "code",
   "execution_count": 15,
   "metadata": {},
   "outputs": [
    {
     "data": {
      "text/plain": [
       "[[[-12.774086818764356, 10.939329639348886],\n",
       "  [-16.741705269089536, 11.673734479293016]],\n",
       " [[-10.807661288048351, 8.22785182083336],\n",
       "  [-16.567046749327943, 11.51664024032792]],\n",
       " [[-10.576428006158803, 7.747028740280017],\n",
       "  [-16.53472813150064, 11.413043044750529]],\n",
       " [[-10.230561914712547, 7.311916840409109],\n",
       "  [-16.4697748391231, 11.344298811132214]],\n",
       " [[-9.872989714696189, 6.921788034294679],\n",
       "  [-16.43232474237911, 11.333310333269159]]]"
      ]
     },
     "execution_count": 15,
     "metadata": {},
     "output_type": "execute_result"
    }
   ],
   "source": [
    "data_1"
   ]
  },
  {
   "cell_type": "code",
   "execution_count": 5,
   "metadata": {},
   "outputs": [],
   "source": [
    "labels = ['ConvMed', 'ConvSuper']\n",
    "data00 = np.diff(data_0).reshape(5, 2)[0]\n",
    "data01 = np.diff(data_0).reshape(5, 2)[1]\n",
    "data02 = np.diff(data_0).reshape(5, 2)[2]\n",
    "data03 = np.diff(data_0).reshape(5, 2)[3]\n",
    "data04 = np.diff(data_0).reshape(5, 2)[4]\n",
    "\n",
    "data10 = np.diff(data_1).reshape(5, 2)[0]\n",
    "data11 = np.diff(data_1).reshape(5, 2)[1]\n",
    "data12 = np.diff(data_1).reshape(5, 2)[2]\n",
    "data13 = np.diff(data_1).reshape(5, 2)[3]\n",
    "data14 = np.diff(data_1).reshape(5, 2)[4]\n",
    "\n",
    "data20 = np.diff(data_2).reshape(5, 2)[0]\n",
    "data21 = np.diff(data_2).reshape(5, 2)[1]\n",
    "data22 = np.diff(data_2).reshape(5, 2)[2]\n",
    "data23 = np.diff(data_2).reshape(5, 2)[3]\n",
    "data24 = np.diff(data_2).reshape(5, 2)[4]\n",
    "\n",
    "data30 = np.diff(data_3).reshape(5, 2)[0]\n",
    "data31 = np.diff(data_3).reshape(5, 2)[1]\n",
    "data32 = np.diff(data_3).reshape(5, 2)[2]\n",
    "data33 = np.diff(data_3).reshape(5, 2)[3]\n",
    "data34 = np.diff(data_3).reshape(5, 2)[4]"
   ]
  },
  {
   "cell_type": "code",
   "execution_count": 36,
   "metadata": {},
   "outputs": [
    {
     "data": {
      "text/plain": [
       "array([31.66283924,  2.43802044])"
      ]
     },
     "execution_count": 36,
     "metadata": {},
     "output_type": "execute_result"
    }
   ],
   "source": [
    "(1 - data34 / data30) * 100"
   ]
  },
  {
   "cell_type": "markdown",
   "metadata": {},
   "source": [
    "runtime = {}\n",
    "runtime['ConvMed'] = []\n",
    "for idxImage in range(4):\n",
    "    times = []\n",
    "    data = mnist['model_CIFAR_CNN_Medium'][str(idxImage)]['new_range']['time']\n",
    "    for key in data:\n",
    "        times.append(data[key])\n",
    "    runtime['ConvMed'].append(times)\n",
    "runtime['ConvSuper'] = []\n",
    "for idxImage in range(4):\n",
    "    times = []\n",
    "    data = mnist['model_CIFAR_CNN_Large'][str(idxImage)]['new_range']['time']\n",
    "    for key in data:\n",
    "        times.append(data[key])\n",
    "    runtime['ConvSuper'].append(times)\n",
    "runtime"
   ]
  },
  {
   "cell_type": "code",
   "execution_count": 7,
   "metadata": {},
   "outputs": [
    {
     "data": {
      "text/plain": [
       "{'ConvMed': array([13306.84100223, 15612.77463603, 15303.72489619, 15199.50130177]),\n",
       " 'ConvSuper': array([11132.133039  , 12220.35949445, 11807.2064023 , 12048.79224682])}"
      ]
     },
     "execution_count": 7,
     "metadata": {},
     "output_type": "execute_result"
    }
   ],
   "source": [
    "total_time = {}\n",
    "for key in runtime:\n",
    "    total_time[key] = np.sum(runtime[key], axis=1)\n",
    "total_time"
   ]
  },
  {
   "cell_type": "code",
   "execution_count": 17,
   "metadata": {},
   "outputs": [
    {
     "data": {
      "text/plain": [
       "{'ConvMed': [13748.577315330505,\n",
       "  16124.110340833664,\n",
       "  15813.501748085022,\n",
       "  15762.176421165466],\n",
       " 'ConvSuper': [12779.456197023392,\n",
       "  13895.038264036179,\n",
       "  13624.53433418274,\n",
       "  17266.311227798462]}"
      ]
     },
     "execution_count": 17,
     "metadata": {},
     "output_type": "execute_result"
    }
   ],
   "source": [
    "total_runtime = {}\n",
    "total_runtime['ConvMed'] = []\n",
    "for idxImage in range(4):\n",
    "    times = mnist['model_CIFAR_CNN_Medium'][str(idxImage)]['runtime']\n",
    "    total_runtime['ConvMed'].append(times)\n",
    "total_runtime['ConvSuper'] = []\n",
    "for idxImage in range(4):\n",
    "    times = mnist['model_CIFAR_CNN_Large'][str(idxImage)]['runtime']\n",
    "    total_runtime['ConvSuper'].append(times)\n",
    "total_runtime"
   ]
  },
  {
   "cell_type": "code",
   "execution_count": 18,
   "metadata": {},
   "outputs": [
    {
     "data": {
      "text/plain": [
       "{'ConvMed': array([441.7363131 , 511.3357048 , 509.77685189, 562.6751194 ]),\n",
       " 'ConvSuper': array([1647.32315803, 1674.67876959, 1817.32793188, 5217.51898098])}"
      ]
     },
     "execution_count": 18,
     "metadata": {},
     "output_type": "execute_result"
    }
   ],
   "source": [
    "eran_time = {}\n",
    "for key in total_runtime:\n",
    "    eran_time[key] = np.array(total_runtime[key]) - total_time[key]\n",
    "eran_time"
   ]
  },
  {
   "cell_type": "code",
   "execution_count": 8,
   "metadata": {},
   "outputs": [],
   "source": [
    "x = np.arange(len(labels))\n",
    "width = 0.8"
   ]
  },
  {
   "cell_type": "code",
   "execution_count": 27,
   "metadata": {},
   "outputs": [
    {
     "data": {
      "image/png": "[encoded data removed]",
      "text/plain": [
       "<matplotlib.figure.Figure at 0x7f923ddda6d8>"
      ]
     },
     "metadata": {},
     "output_type": "display_data"
    }
   ],
   "source": [
    "fig, axs = plt.subplots(2, 2, figsize=(9,6+3/4))\n",
    "\n",
    "axs_twin = []\n",
    "for idx1 in range(2):\n",
    "    for idx2 in range(2):\n",
    "        axs[idx1, idx2].set_ylabel('Volume')\n",
    "        axs_twin.append(axs[idx1, idx2].twinx())\n",
    "        axs_twin[-1].set_ylabel('Time (s)')\n",
    "        axs_twin[-1].set_ylim((0, 5000))\n",
    "        axs_twin[-1].ticklabel_format(style='sci', scilimits=(0,3), axis='y', useMathText=True)\n",
    "\n",
    "rects00 = axs[0, 0].bar(x - 2 * width/5, data00, width/5, label='initial range')\n",
    "rects01 = axs[0, 0].bar(x - width/5, data01, width/5, label='it-1')\n",
    "rects02 = axs[0, 0].bar(x, data02, width/5, label='it-2')\n",
    "rects03 = axs[0, 0].bar(x + 1 * width/5, data03, width/5, label='it-3')\n",
    "rects04 = axs[0, 0].bar(x + 2 * width/5, data04, width/5, label='it-4')\n",
    "\n",
    "rects10 = axs[0, 1].bar(x - 2 * width/5, data10, width/5, label='initial range')\n",
    "rects11 = axs[0, 1].bar(x - width/5, data11, width/5, label='it-1')\n",
    "rects12 = axs[0, 1].bar(x, data12, width/5, label='it-2')\n",
    "rects13 = axs[0, 1].bar(x + 1 * width/5, data13, width/5, label='it-3')\n",
    "rects14 = axs[0, 1].bar(x + 2 * width/5, data14, width/5, label='it-4')\n",
    "\n",
    "rects20 = axs[1, 0].bar(x - 2 * width/5, data20, width/5, label='initial range')\n",
    "rects21 = axs[1, 0].bar(x - width/5, data21, width/5, label='it-1')\n",
    "rects22 = axs[1, 0].bar(x, data22, width/5, label='it-2')\n",
    "rects23 = axs[1, 0].bar(x + 1 * width/5, data23, width/5, label='it-3')\n",
    "rects24 = axs[1, 0].bar(x + 2 * width/5, data24, width/5, label='it-4')\n",
    "\n",
    "rects30 = axs[1, 1].bar(x - 2 * width/5, data30, width/5, label='initial range')\n",
    "rects31 = axs[1, 1].bar(x - width/5, data31, width/5, label='it-1')\n",
    "rects32 = axs[1, 1].bar(x, data32, width/5, label='it-2')\n",
    "rects33 = axs[1, 1].bar(x + 1 * width/5, data33, width/5, label='it-3')\n",
    "rects34 = axs[1, 1].bar(x + 2 * width/5, data34, width/5, label='it-4')\n",
    "\n",
    "point_x = {}\n",
    "for idxImage in range(4):\n",
    "    point_x[str(idxImage)] = {}\n",
    "\n",
    "for idxCNN in range(len(labels)):\n",
    "    point_x['0'][labels[idxCNN]] = [rects01[idxCNN].get_x() + rects01[idxCNN].get_width()/2.0,\n",
    "                                    rects02[idxCNN].get_x() + rects02[idxCNN].get_width()/2.0,\n",
    "                                    rects03[idxCNN].get_x() + rects03[idxCNN].get_width()/2.0,\n",
    "                                    rects04[idxCNN].get_x() + rects04[idxCNN].get_width()/2.0]\n",
    "    \n",
    "\n",
    "for idxCNN in range(len(labels)):\n",
    "    point_x['1'][labels[idxCNN]] = [rects11[idxCNN].get_x() + rects11[idxCNN].get_width()/2.0,\n",
    "                                    rects12[idxCNN].get_x() + rects11[idxCNN].get_width()/2.0,\n",
    "                                    rects13[idxCNN].get_x() + rects11[idxCNN].get_width()/2.0,\n",
    "                                    rects14[idxCNN].get_x() + rects11[idxCNN].get_width()/2.0]\n",
    "    \n",
    "\n",
    "for idxCNN in range(len(labels)):\n",
    "    point_x['2'][labels[idxCNN]] = [rects21[idxCNN].get_x() + rects01[idxCNN].get_width()/2.0,\n",
    "                                    rects22[idxCNN].get_x() + rects01[idxCNN].get_width()/2.0,\n",
    "                                    rects23[idxCNN].get_x() + rects01[idxCNN].get_width()/2.0,\n",
    "                                    rects24[idxCNN].get_x() + rects01[idxCNN].get_width()/2.0]\n",
    "    \n",
    "\n",
    "for idxCNN in range(len(labels)):\n",
    "    point_x['3'][labels[idxCNN]] = [rects31[idxCNN].get_x() + rects01[idxCNN].get_width()/2.0,\n",
    "                                    rects32[idxCNN].get_x() + rects01[idxCNN].get_width()/2.0,\n",
    "                                    rects33[idxCNN].get_x() + rects01[idxCNN].get_width()/2.0,\n",
    "                                    rects34[idxCNN].get_x() + rects01[idxCNN].get_width()/2.0]\n",
    "    \n",
    "for idxImage in range(4):\n",
    "    for label in labels:\n",
    "        axs_twin[idxImage].plot(point_x[str(idxImage)][label], runtime[label][idxImage], marker='o', color='#9c755f', label='runtime')\n",
    "\n",
    "\n",
    "# Add some text for labels, title and custom x-axis tick labels, etc.\n",
    "for i in range(2):\n",
    "    for j in range(2):\n",
    "        axs[i, j].set_xticks(x)\n",
    "        axs[i, j].set_xticklabels(labels)\n",
    "        if i == 0 and j == 1:\n",
    "            h1, l1 = axs[i, j].get_legend_handles_labels()\n",
    "            h2, l2 = axs_twin[1].get_legend_handles_labels()\n",
    "            axs[i, j].legend(h1 + h2, l1+l2, loc='upper center', bbox_to_anchor=(-0.15, 1.25), ncol=6)\n",
    "plt.tight_layout(pad=2.0)\n",
    "fig.savefig(\"cifar.png\", bbox_inches='tight')"
   ]
  },
  {
   "cell_type": "code",
   "execution_count": null,
   "metadata": {},
   "outputs": [],
   "source": []
  },
  {
   "cell_type": "code",
   "execution_count": null,
   "metadata": {},
   "outputs": [],
   "source": []
  }
 ],
 "metadata": {
  "kernelspec": {
   "display_name": "Bernsp",
   "language": "python",
   "name": "bernsp"
  },
  "language_info": {
   "codemirror_mode": {
    "name": "ipython",
    "version": 3
   },
   "file_extension": ".py",
   "mimetype": "text/x-python",
   "name": "python",
   "nbconvert_exporter": "python",
   "pygments_lexer": "ipython3",
   "version": "3.6.7"
  }
 },
 "nbformat": 4,
 "nbformat_minor": 2
}
