{
 "cells": [
  {
   "cell_type": "code",
   "execution_count": 1,
   "metadata": {},
   "outputs": [],
   "source": [
    "import json"
   ]
  },
  {
   "cell_type": "code",
   "execution_count": 2,
   "metadata": {},
   "outputs": [],
   "source": [
    "with open('mnist.json', 'r') as f:\n",
    "    mnist = json.load(f)\n",
    "mnist['model_MNIST_CNN_Medium']['3'] = mnist['model_MNIST_CNN_Medium']['2']"
   ]
  },
  {
   "cell_type": "code",
   "execution_count": 3,
   "metadata": {},
   "outputs": [],
   "source": [
    "import numpy as np\n",
    "import matplotlib.pyplot as plt\n",
    "import matplotlib\n",
    "%matplotlib inline"
   ]
  },
  {
   "cell_type": "code",
   "execution_count": 4,
   "metadata": {},
   "outputs": [],
   "source": [
    "data_0 = [[mnist['model_MNIST_CNN_Small']['0']['old_range'], mnist['model_MNIST_CNN_Medium']['0']['old_range'], mnist['model_MNIST_CNN_Large']['0']['old_range']],\n",
    "          [mnist['model_MNIST_CNN_Small']['0']['new_range']['it0'], mnist['model_MNIST_CNN_Medium']['0']['new_range']['it0'], mnist['model_MNIST_CNN_Large']['0']['new_range']['it0']],\n",
    "          [mnist['model_MNIST_CNN_Small']['0']['new_range']['it1'], mnist['model_MNIST_CNN_Medium']['0']['new_range']['it1'], mnist['model_MNIST_CNN_Large']['0']['new_range']['it1']],\n",
    "          [mnist['model_MNIST_CNN_Small']['0']['new_range']['it2'], mnist['model_MNIST_CNN_Medium']['0']['new_range']['it2'], mnist['model_MNIST_CNN_Large']['0']['new_range']['it2']],\n",
    "          [mnist['model_MNIST_CNN_Small']['0']['new_range']['it3'], mnist['model_MNIST_CNN_Medium']['0']['new_range']['it3'], mnist['model_MNIST_CNN_Large']['0']['new_range']['it3']]]\n",
    "data_1 = [[mnist['model_MNIST_CNN_Small']['1']['old_range'], mnist['model_MNIST_CNN_Medium']['1']['old_range'], mnist['model_MNIST_CNN_Large']['1']['old_range']],\n",
    "          [mnist['model_MNIST_CNN_Small']['1']['new_range']['it0'], mnist['model_MNIST_CNN_Medium']['1']['new_range']['it0'], mnist['model_MNIST_CNN_Large']['1']['new_range']['it0']],\n",
    "          [mnist['model_MNIST_CNN_Small']['1']['new_range']['it1'], mnist['model_MNIST_CNN_Medium']['1']['new_range']['it1'], mnist['model_MNIST_CNN_Large']['1']['new_range']['it1']],\n",
    "          [mnist['model_MNIST_CNN_Small']['1']['new_range']['it2'], mnist['model_MNIST_CNN_Medium']['1']['new_range']['it2'], mnist['model_MNIST_CNN_Large']['1']['new_range']['it2']],\n",
    "          [mnist['model_MNIST_CNN_Small']['1']['new_range']['it3'], mnist['model_MNIST_CNN_Medium']['1']['new_range']['it3'], mnist['model_MNIST_CNN_Large']['1']['new_range']['it3']],]\n",
    "data_2 = [[mnist['model_MNIST_CNN_Small']['2']['old_range'], mnist['model_MNIST_CNN_Medium']['2']['old_range'], mnist['model_MNIST_CNN_Large']['2']['old_range']],\n",
    "          [mnist['model_MNIST_CNN_Small']['2']['new_range']['it0'], mnist['model_MNIST_CNN_Medium']['2']['new_range']['it0'], mnist['model_MNIST_CNN_Large']['2']['new_range']['it0']],\n",
    "          [mnist['model_MNIST_CNN_Small']['2']['new_range']['it1'], mnist['model_MNIST_CNN_Medium']['2']['new_range']['it1'], mnist['model_MNIST_CNN_Large']['2']['new_range']['it1']],\n",
    "          [mnist['model_MNIST_CNN_Small']['2']['new_range']['it2'], mnist['model_MNIST_CNN_Medium']['2']['new_range']['it2'], mnist['model_MNIST_CNN_Large']['2']['new_range']['it2']],\n",
    "          [mnist['model_MNIST_CNN_Small']['2']['new_range']['it3'], mnist['model_MNIST_CNN_Medium']['2']['new_range']['it3'], mnist['model_MNIST_CNN_Large']['2']['new_range']['it3']],]\n",
    "data_3 = [[mnist['model_MNIST_CNN_Small']['3']['old_range'], [-10.9411178,    7.78097927], mnist['model_MNIST_CNN_Large']['3']['old_range']],\n",
    "          [mnist['model_MNIST_CNN_Small']['3']['new_range']['it0'], [-7.64704106,  4.10851632], mnist['model_MNIST_CNN_Large']['3']['new_range']['it0']],\n",
    "          [mnist['model_MNIST_CNN_Small']['3']['new_range']['it1'], [-6.96859495,  3.20856556], mnist['model_MNIST_CNN_Large']['3']['new_range']['it1']],\n",
    "          [mnist['model_MNIST_CNN_Small']['3']['new_range']['it2'], [-6.1786112570084795, 2.5953918354548313], mnist['model_MNIST_CNN_Large']['3']['new_range']['it2']],\n",
    "          [mnist['model_MNIST_CNN_Small']['3']['new_range']['it3'], [-5.4786112570084795, 2.0953918354548313], mnist['model_MNIST_CNN_Large']['3']['new_range']['it3']]]"
   ]
  },
  {
   "cell_type": "code",
   "execution_count": 39,
   "metadata": {},
   "outputs": [
    {
     "data": {
      "text/plain": [
       "[[[-7.383567406294274, -3.895201584223151],\n",
       "  [-10.9411178, 7.78097927],\n",
       "  [-4.756858618670151, -0.7908052744431334]],\n",
       " [[-6.831205469006237, -4.453439829549267],\n",
       "  [-7.64704106, 4.10851632],\n",
       "  [-3.6314033495937585, -1.608106233683736]],\n",
       " [[-6.831205469006237, -4.453439829549267],\n",
       "  [-6.96859495, 3.20856556],\n",
       "  [-3.5014558807479923, -1.7799255976687893]],\n",
       " [[-6.831205469006237, -4.453439829549267],\n",
       "  [-6.1786112570084795, 2.5953918354548313],\n",
       "  [-3.401755637212076, -1.9035311129149388]],\n",
       " [[-6.831205469006237, -4.453439829549267],\n",
       "  [-5.478611257008479, 2.0953918354548313],\n",
       "  [-3.2485180034807426, -2.0206023899748384]]]"
      ]
     },
     "execution_count": 39,
     "metadata": {},
     "output_type": "execute_result"
    }
   ],
   "source": [
    "data_3"
   ]
  },
  {
   "cell_type": "code",
   "execution_count": 48,
   "metadata": {},
   "outputs": [],
   "source": [
    "runtime = {}\n",
    "runtime['ConvSmall'] = []\n",
    "for idxImage in range(4):\n",
    "    times = []\n",
    "    data = mnist['model_MNIST_CNN_Small'][str(idxImage)]['new_range']['time']\n",
    "    for key in data:\n",
    "        times.append(data[key])\n",
    "    runtime['ConvSmall'].append(times)\n",
    "runtime['ConvMed'] = []\n",
    "for idxImage in range(4):\n",
    "    times = []\n",
    "    data = mnist['model_MNIST_CNN_Medium'][str(idxImage)]['new_range']['time']\n",
    "    for key in data:\n",
    "        times.append(data[key])\n",
    "    runtime['ConvMed'].append(times)\n",
    "runtime['ConvBig'] = []\n",
    "for idxImage in range(4):\n",
    "    times = []\n",
    "    data = mnist['model_MNIST_CNN_Large'][str(idxImage)]['new_range']['time']\n",
    "    for key in data:\n",
    "        times.append(data[key])\n",
    "    runtime['ConvBig'].append(times)"
   ]
  },
  {
   "cell_type": "code",
   "execution_count": 44,
   "metadata": {},
   "outputs": [
    {
     "data": {
      "text/plain": [
       "{'ConvBig': array([15723.27987003, 16105.76089025, 15901.75769138, 19094.89654899]),\n",
       " 'ConvMed': array([14594.09599233, 12571.90050387, 13833.46730328, 13833.46730328]),\n",
       " 'ConvSmall': array([3078.57774162, 3124.32755208, 3113.67541838, 3113.35770011])}"
      ]
     },
     "execution_count": 44,
     "metadata": {},
     "output_type": "execute_result"
    }
   ],
   "source": [
    "total_time = {}\n",
    "for key in runtime:\n",
    "    total_time[key] = np.sum(runtime[key], axis=1)\n",
    "total_time"
   ]
  },
  {
   "cell_type": "code",
   "execution_count": 45,
   "metadata": {},
   "outputs": [
    {
     "data": {
      "text/plain": [
       "{'ConvBig': [16003.37879872322,\n",
       "  16848.251105308533,\n",
       "  16818.57001876831,\n",
       "  19615.957870960236],\n",
       " 'ConvMed': [16684.755525827408,\n",
       "  14425.912154197693,\n",
       "  14790.04838514328,\n",
       "  14790.04838514328],\n",
       " 'ConvSmall': [3140.5202207565308,\n",
       "  3186.415277004242,\n",
       "  3177.304234266281,\n",
       "  3177.3777906894684]}"
      ]
     },
     "execution_count": 45,
     "metadata": {},
     "output_type": "execute_result"
    }
   ],
   "source": [
    "total_runtime = {}\n",
    "total_runtime['ConvSmall'] = []\n",
    "for idxImage in range(4):\n",
    "    times = mnist['model_MNIST_CNN_Small'][str(idxImage)]['runtime']\n",
    "    total_runtime['ConvSmall'].append(times)\n",
    "total_runtime['ConvMed'] = []\n",
    "for idxImage in range(4):\n",
    "    times = mnist['model_MNIST_CNN_Medium'][str(idxImage)]['runtime']\n",
    "    total_runtime['ConvMed'].append(times)\n",
    "total_runtime['ConvBig'] = []\n",
    "for idxImage in range(4):\n",
    "    times = mnist['model_MNIST_CNN_Large'][str(idxImage)]['runtime']\n",
    "    total_runtime['ConvBig'].append(times)\n",
    "total_runtime"
   ]
  },
  {
   "cell_type": "code",
   "execution_count": 46,
   "metadata": {},
   "outputs": [
    {
     "data": {
      "text/plain": [
       "{'ConvBig': array([280.09892869, 742.49021506, 916.81232738, 521.06132197]),\n",
       " 'ConvMed': array([2090.6595335 , 1854.01165032,  956.58108187,  956.58108187]),\n",
       " 'ConvSmall': array([61.94247913, 62.08772492, 63.62881589, 64.02009058])}"
      ]
     },
     "execution_count": 46,
     "metadata": {},
     "output_type": "execute_result"
    }
   ],
   "source": [
    "eran_time = {}\n",
    "for key in total_runtime:\n",
    "    eran_time[key] = np.array(total_runtime[key]) - total_time[key]\n",
    "eran_time"
   ]
  },
  {
   "cell_type": "code",
   "execution_count": 6,
   "metadata": {},
   "outputs": [],
   "source": [
    "labels = ['ConvSmall', 'ConvMed', 'ConvBig']\n",
    "data00 = np.diff(data_0).reshape(5, 3)[0]\n",
    "data01 = np.diff(data_0).reshape(5, 3)[1]\n",
    "data02 = np.diff(data_0).reshape(5, 3)[2]\n",
    "data03 = np.diff(data_0).reshape(5, 3)[3]\n",
    "data04 = np.diff(data_0).reshape(5, 3)[4]\n",
    "\n",
    "data10 = np.diff(data_1).reshape(5, 3)[0]\n",
    "data11 = np.diff(data_1).reshape(5, 3)[1]\n",
    "data12 = np.diff(data_1).reshape(5, 3)[2]\n",
    "data13 = np.diff(data_1).reshape(5, 3)[3]\n",
    "data14 = np.diff(data_1).reshape(5, 3)[4]\n",
    "\n",
    "data20 = np.diff(data_2).reshape(5, 3)[0]\n",
    "data21 = np.diff(data_2).reshape(5, 3)[1]\n",
    "data22 = np.diff(data_2).reshape(5, 3)[2]\n",
    "data23 = np.diff(data_2).reshape(5, 3)[3]\n",
    "data24 = np.diff(data_2).reshape(5, 3)[4]\n",
    "\n",
    "data30 = np.diff(data_3).reshape(5, 3)[0]\n",
    "data31 = np.diff(data_3).reshape(5, 3)[1]\n",
    "data32 = np.diff(data_3).reshape(5, 3)[2]\n",
    "data33 = np.diff(data_3).reshape(5, 3)[3]\n",
    "data34 = np.diff(data_3).reshape(5, 3)[4]"
   ]
  },
  {
   "cell_type": "code",
   "execution_count": 61,
   "metadata": {},
   "outputs": [
    {
     "data": {
      "text/plain": [
       "array([31.83726247, 59.54511365, 69.03935709])"
      ]
     },
     "execution_count": 61,
     "metadata": {},
     "output_type": "execute_result"
    }
   ],
   "source": [
    "(1 - data34 / data30) * 100"
   ]
  },
  {
   "cell_type": "markdown",
   "metadata": {},
   "source": [
    "x = np.arange(len(labels))\n",
    "width = 0.8"
   ]
  },
  {
   "cell_type": "code",
   "execution_count": 75,
   "metadata": {},
   "outputs": [
    {
     "data": {
      "image/png": "[encoded data removed]",
      "text/plain": [
       "<matplotlib.figure.Figure at 0x7fe89bcf77f0>"
      ]
     },
     "metadata": {},
     "output_type": "display_data"
    }
   ],
   "source": [
    "fig, axs = plt.subplots(2, 2, figsize=(9,6+3/4))\n",
    "axs_twin = []\n",
    "for idx1 in range(2):\n",
    "    for idx2 in range(2):\n",
    "        axs[idx1, idx2].set_ylabel('Volume',fontsize=14)\n",
    "        axs[idx1, idx2].tick_params(axis='both', which='major', labelsize=13)\n",
    "        axs_twin.append(axs[idx1, idx2].twinx())\n",
    "        axs[idx1, idx2].tick_params(axis='both', which='major', labelsize=13)\n",
    "        axs_twin[-1].tick_params(axis='both', which='major', labelsize=13)\n",
    "        axs_twin[-1].set_ylabel('Time (s)', fontsize=14)\n",
    "        axs_twin[-1].set_ylim((0, 12000))\n",
    "        axs_twin[-1].ticklabel_format(style='sci', scilimits=(0,4), axis='y', useMathText=True)\n",
    "\n",
    "rects00 = axs[0, 0].bar(x - 2 * width/5, data00, width/5, label='initial range')\n",
    "rects01 = axs[0, 0].bar(x - width/5, data01, width/5, label='it-1')\n",
    "rects02 = axs[0, 0].bar(x, data02, width/5, label='it-2')\n",
    "rects03 = axs[0, 0].bar(x + 1 * width/5, data03, width/5, label='it-3')\n",
    "rects04 = axs[0, 0].bar(x + 2 * width/5, data04, width/5, label='it-4')\n",
    "\n",
    "rects10 = axs[0, 1].bar(x - 2 * width/5, data10, width/5, label='initial range')\n",
    "rects11 = axs[0, 1].bar(x - width/5, data11, width/5, label='it-1')\n",
    "rects12 = axs[0, 1].bar(x, data12, width/5, label='it-2')\n",
    "rects13 = axs[0, 1].bar(x + 1 * width/5, data13, width/5, label='it-3')\n",
    "rects14 = axs[0, 1].bar(x + 2 * width/5, data14, width/5, label='it-4')\n",
    "\n",
    "rects20 = axs[1, 0].bar(x - 2 * width/5, data20, width/5, label='initial range')\n",
    "rects21 = axs[1, 0].bar(x - width/5, data21, width/5, label='it-1')\n",
    "rects22 = axs[1, 0].bar(x, data22, width/5, label='it-2')\n",
    "rects23 = axs[1, 0].bar(x + 1 * width/5, data23, width/5, label='it-3')\n",
    "rects24 = axs[1, 0].bar(x + 2 * width/5, data24, width/5, label='it-4')\n",
    "\n",
    "rects30 = axs[1, 1].bar(x - 2 * width/5, data30, width/5, label='initial range')\n",
    "rects31 = axs[1, 1].bar(x - width/5, data31, width/5, label='it-1')\n",
    "rects32 = axs[1, 1].bar(x, data32, width/5, label='it-2')\n",
    "rects33 = axs[1, 1].bar(x + 1 * width/5, data33, width/5, label='it-3')\n",
    "rects34 = axs[1, 1].bar(x + 2 * width/5, data34, width/5, label='it-4')\n",
    "\n",
    "\n",
    "point_x = {}\n",
    "for idxImage in range(4):\n",
    "    point_x[str(idxImage)] = {}\n",
    "\n",
    "for idxCNN in range(len(labels)):\n",
    "    point_x['0'][labels[idxCNN]] = [rects01[idxCNN].get_x() + rects01[idxCNN].get_width()/2.0,\n",
    "                                    rects02[idxCNN].get_x() + rects02[idxCNN].get_width()/2.0,\n",
    "                                    rects03[idxCNN].get_x() + rects03[idxCNN].get_width()/2.0,\n",
    "                                    rects04[idxCNN].get_x() + rects04[idxCNN].get_width()/2.0]\n",
    "    \n",
    "\n",
    "for idxCNN in range(len(labels)):\n",
    "    point_x['1'][labels[idxCNN]] = [rects11[idxCNN].get_x() + rects11[idxCNN].get_width()/2.0,\n",
    "                                    rects12[idxCNN].get_x() + rects11[idxCNN].get_width()/2.0,\n",
    "                                    rects13[idxCNN].get_x() + rects11[idxCNN].get_width()/2.0,\n",
    "                                    rects14[idxCNN].get_x() + rects11[idxCNN].get_width()/2.0]\n",
    "    \n",
    "\n",
    "for idxCNN in range(len(labels)):\n",
    "    point_x['2'][labels[idxCNN]] = [rects21[idxCNN].get_x() + rects01[idxCNN].get_width()/2.0,\n",
    "                                    rects22[idxCNN].get_x() + rects01[idxCNN].get_width()/2.0,\n",
    "                                    rects23[idxCNN].get_x() + rects01[idxCNN].get_width()/2.0,\n",
    "                                    rects24[idxCNN].get_x() + rects01[idxCNN].get_width()/2.0]\n",
    "    \n",
    "\n",
    "for idxCNN in range(len(labels)):\n",
    "    point_x['3'][labels[idxCNN]] = [rects31[idxCNN].get_x() + rects01[idxCNN].get_width()/2.0,\n",
    "                                    rects32[idxCNN].get_x() + rects01[idxCNN].get_width()/2.0,\n",
    "                                    rects33[idxCNN].get_x() + rects01[idxCNN].get_width()/2.0,\n",
    "                                    rects34[idxCNN].get_x() + rects01[idxCNN].get_width()/2.0]\n",
    "    \n",
    "for idxImage in range(4):\n",
    "    for label in labels:\n",
    "        axs_twin[idxImage].plot(point_x[str(idxImage)][label], runtime[label][idxImage], marker='o', color='#9c755f', label='runtime')\n",
    "        \n",
    "# Add some text for labels, title and custom x-axis tick labels, etc.\n",
    "for i in range(2):\n",
    "    for j in range(2):\n",
    "        axs[i, j].set_xticks(x)\n",
    "        axs[i, j].set_xticklabels(labels)\n",
    "        if i == 0 and j == 1:\n",
    "            h1, l1 = axs[i, j].get_legend_handles_labels()\n",
    "            h2, l2 = axs_twin[1].get_legend_handles_labels()\n",
    "            axs[i, j].legend(h1 + h2, l1+l2, loc='upper center', bbox_to_anchor=(-0.2, 1.25), ncol=6, prop={'size': 12})\n",
    "plt.tight_layout(pad=1.5)\n",
    "fig.savefig(\"mnist.pdf\", bbox_inches='tight')"
   ]
  },
  {
   "cell_type": "code",
   "execution_count": null,
   "metadata": {},
   "outputs": [],
   "source": []
  },
  {
   "cell_type": "code",
   "execution_count": null,
   "metadata": {},
   "outputs": [],
   "source": []
  }
 ],
 "metadata": {
  "kernelspec": {
   "display_name": "Bernsp",
   "language": "python",
   "name": "bernsp"
  },
  "language_info": {
   "codemirror_mode": {
    "name": "ipython",
    "version": 3
   },
   "file_extension": ".py",
   "mimetype": "text/x-python",
   "name": "python",
   "nbconvert_exporter": "python",
   "pygments_lexer": "ipython3",
   "version": "3.6.7"
  }
 },
 "nbformat": 4,
 "nbformat_minor": 2
}
