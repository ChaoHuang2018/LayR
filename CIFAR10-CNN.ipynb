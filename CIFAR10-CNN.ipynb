{
 "cells": [
  {
   "cell_type": "code",
   "execution_count": 1,
   "metadata": {},
   "outputs": [
    {
     "name": "stderr",
     "output_type": "stream",
     "text": [
      "Using TensorFlow backend.\n"
     ]
    }
   ],
   "source": [
    "from __future__ import print_function\n",
    "import keras\n",
    "import numpy as np\n",
    "from keras.datasets import cifar10\n",
    "from keras.preprocessing.image import ImageDataGenerator\n",
    "from keras.models import Sequential\n",
    "from keras.layers import Dense, Dropout, Activation, Flatten\n",
    "from keras.layers import Conv2D, MaxPooling2D, AveragePooling2D\n",
    "import os"
   ]
  },
  {
   "cell_type": "code",
   "execution_count": 2,
   "metadata": {},
   "outputs": [
    {
     "name": "stdout",
     "output_type": "stream",
     "text": [
      "Device mapping:\n",
      "/job:localhost/replica:0/task:0/device:XLA_CPU:0 -> device: XLA_CPU device\n",
      "/job:localhost/replica:0/task:0/device:XLA_GPU:0 -> device: XLA_GPU device\n",
      "/job:localhost/replica:0/task:0/device:XLA_GPU:1 -> device: XLA_GPU device\n",
      "/job:localhost/replica:0/task:0/device:XLA_GPU:2 -> device: XLA_GPU device\n",
      "/job:localhost/replica:0/task:0/device:XLA_GPU:3 -> device: XLA_GPU device\n",
      "/job:localhost/replica:0/task:0/device:GPU:0 -> device: 0, name: GeForce GTX 1080 Ti, pci bus id: 0000:05:00.0, compute capability: 6.1\n",
      "/job:localhost/replica:0/task:0/device:GPU:1 -> device: 1, name: GeForce GTX 1080 Ti, pci bus id: 0000:06:00.0, compute capability: 6.1\n",
      "/job:localhost/replica:0/task:0/device:GPU:2 -> device: 2, name: GeForce GTX 1080 Ti, pci bus id: 0000:09:00.0, compute capability: 6.1\n",
      "/job:localhost/replica:0/task:0/device:GPU:3 -> device: 3, name: GeForce GTX 1080 Ti, pci bus id: 0000:0a:00.0, compute capability: 6.1\n",
      "\n"
     ]
    }
   ],
   "source": [
    "from keras.backend.tensorflow_backend import set_session\n",
    "import tensorflow as tf\n",
    "config = tf.ConfigProto()\n",
    "config.gpu_options.allow_growth = True  # dynamically grow the memory used on the GPU\n",
    "config.log_device_placement = True  # to log device placement (on which device the operation ran)\n",
    "sess = tf.compat.v1.Session(config=config)\n",
    "set_session(sess)  # set this TensorFlow session as the default session for Keras"
   ]
  },
  {
   "cell_type": "code",
   "execution_count": 3,
   "metadata": {},
   "outputs": [],
   "source": [
    "batch_size = 256\n",
    "num_classes = 10\n",
    "epochs = 100\n",
    "data_augmentation = True\n",
    "num_predictions = 20"
   ]
  },
  {
   "cell_type": "code",
   "execution_count": 4,
   "metadata": {},
   "outputs": [
    {
     "name": "stdout",
     "output_type": "stream",
     "text": [
      "x_train shape: (50000, 32, 32, 3)\n",
      "50000 train samples\n",
      "10000 test samples\n"
     ]
    }
   ],
   "source": [
    "# The data, split between train and test sets:\n",
    "(x_train, y_train), (x_test, y_test) = cifar10.load_data()\n",
    "print('x_train shape:', x_train.shape)\n",
    "print(x_train.shape[0], 'train samples')\n",
    "print(x_test.shape[0], 'test samples')"
   ]
  },
  {
   "cell_type": "code",
   "execution_count": 5,
   "metadata": {},
   "outputs": [
    {
     "data": {
      "text/plain": [
       "dtype('uint8')"
      ]
     },
     "execution_count": 5,
     "metadata": {},
     "output_type": "execute_result"
    }
   ],
   "source": [
    "x_test[0].dtype"
   ]
  },
  {
   "cell_type": "code",
   "execution_count": 6,
   "metadata": {},
   "outputs": [],
   "source": [
    "# Convert class vectors to binary class matrices.\n",
    "y_train = keras.utils.to_categorical(y_train, num_classes)\n",
    "y_test = keras.utils.to_categorical(y_test, num_classes)"
   ]
  },
  {
   "cell_type": "code",
   "execution_count": 7,
   "metadata": {},
   "outputs": [
    {
     "name": "stderr",
     "output_type": "stream",
     "text": [
      "WARNING: Logging before flag parsing goes to stderr.\n",
      "W0417 18:41:41.287202 140566470350656 deprecation.py:506] From /home/jiameng/packages/Bernsp/lib/python3.6/site-packages/tensorflow_core/python/ops/resource_variable_ops.py:1630: calling BaseResourceVariable.__init__ (from tensorflow.python.ops.resource_variable_ops) with constraint is deprecated and will be removed in a future version.\n",
      "Instructions for updating:\n",
      "If using Keras pass *_constraint arguments to layers.\n"
     ]
    }
   ],
   "source": [
    "model = Sequential()\n",
    "model.add(Conv2D(64, kernel_size=(4, 4),\n",
    "                 strides=1,\n",
    "                 activation='relu',\n",
    "                 input_shape=x_train.shape[1:]))\n",
    "model.add(Conv2D(64, (4, 4), strides=2, activation='relu'))\n",
    "model.add(Conv2D(128, (4, 4), strides=1, activation='relu'))\n",
    "model.add(Conv2D(128, (4, 4), strides=1, activation='relu'))\n",
    "model.add(Flatten())\n",
    "model.add(Dense(100, activation='relu'))\n",
    "model.add(Dense(100, activation='relu'))\n",
    "model.add(Dense(100, activation='relu'))\n",
    "model.add(Dense(100, activation='relu'))\n",
    "model.add(Dense(100, activation='relu'))\n",
    "model.add(Dense(100, activation='relu'))\n",
    "model.add(Dense(num_classes, activation='softmax'))"
   ]
  },
  {
   "cell_type": "code",
   "execution_count": 8,
   "metadata": {},
   "outputs": [],
   "source": [
    "# initiate Adam optimizer\n",
    "opt = keras.optimizers.Adam(lr=0.001, beta_1=0.9, beta_2=0.999, amsgrad=False)\n",
    "# Let's train the model using RMSprop\n",
    "model.compile(loss='categorical_crossentropy',\n",
    "              optimizer=opt,\n",
    "              metrics=['accuracy'])"
   ]
  },
  {
   "cell_type": "code",
   "execution_count": 9,
   "metadata": {},
   "outputs": [],
   "source": [
    "x_train = x_train.astype('float32')\n",
    "x_test = x_test.astype('float32')\n",
    "x_train /= 255\n",
    "x_test /= 255"
   ]
  },
  {
   "cell_type": "code",
   "execution_count": 10,
   "metadata": {
    "scrolled": true
   },
   "outputs": [
    {
     "name": "stdout",
     "output_type": "stream",
     "text": [
      "Using real-time data augmentation.\n"
     ]
    },
    {
     "name": "stderr",
     "output_type": "stream",
     "text": [
      "W0417 18:41:43.639535 140566470350656 module_wrapper.py:139] From /usr/lib/python3/dist-packages/keras/backend/tensorflow_backend.py:422: The name tf.global_variables is deprecated. Please use tf.compat.v1.global_variables instead.\n",
      "\n"
     ]
    },
    {
     "name": "stdout",
     "output_type": "stream",
     "text": [
      "Epoch 1/100\n",
      "196/196 [==============================] - 23s 120ms/step - loss: 1.9775 - accuracy: 0.2431 - val_loss: 1.6322 - val_accuracy: 0.3763\n",
      "Epoch 2/100\n",
      "196/196 [==============================] - 21s 105ms/step - loss: 1.5736 - accuracy: 0.4164 - val_loss: 1.4175 - val_accuracy: 0.4809\n",
      "Epoch 3/100\n",
      "196/196 [==============================] - 21s 107ms/step - loss: 1.3892 - accuracy: 0.4880 - val_loss: 1.2811 - val_accuracy: 0.5355\n",
      "Epoch 4/100\n",
      "196/196 [==============================] - 21s 107ms/step - loss: 1.2695 - accuracy: 0.5381 - val_loss: 1.1590 - val_accuracy: 0.5862\n",
      "Epoch 5/100\n",
      "196/196 [==============================] - 21s 106ms/step - loss: 1.1643 - accuracy: 0.5797 - val_loss: 1.0476 - val_accuracy: 0.6309\n",
      "Epoch 6/100\n",
      "196/196 [==============================] - 21s 107ms/step - loss: 1.0794 - accuracy: 0.6125 - val_loss: 1.0515 - val_accuracy: 0.6247\n",
      "Epoch 7/100\n",
      "196/196 [==============================] - 21s 107ms/step - loss: 1.0147 - accuracy: 0.6384 - val_loss: 0.9394 - val_accuracy: 0.6679\n",
      "Epoch 8/100\n",
      "196/196 [==============================] - 21s 106ms/step - loss: 0.9604 - accuracy: 0.6581 - val_loss: 0.9151 - val_accuracy: 0.6806\n",
      "Epoch 9/100\n",
      "196/196 [==============================] - 21s 106ms/step - loss: 0.9117 - accuracy: 0.6763 - val_loss: 0.8701 - val_accuracy: 0.6912\n",
      "Epoch 10/100\n",
      "196/196 [==============================] - 21s 105ms/step - loss: 0.8806 - accuracy: 0.6894 - val_loss: 0.8208 - val_accuracy: 0.7124\n",
      "Epoch 11/100\n",
      "196/196 [==============================] - 21s 106ms/step - loss: 0.8347 - accuracy: 0.7057 - val_loss: 0.8639 - val_accuracy: 0.7048\n",
      "Epoch 12/100\n",
      "196/196 [==============================] - 21s 106ms/step - loss: 0.8119 - accuracy: 0.7150 - val_loss: 0.7710 - val_accuracy: 0.7336\n",
      "Epoch 13/100\n",
      "196/196 [==============================] - 21s 107ms/step - loss: 0.7799 - accuracy: 0.7247 - val_loss: 0.7832 - val_accuracy: 0.7313\n",
      "Epoch 14/100\n",
      "196/196 [==============================] - 21s 106ms/step - loss: 0.7654 - accuracy: 0.7308 - val_loss: 0.7639 - val_accuracy: 0.7358\n",
      "Epoch 15/100\n",
      "196/196 [==============================] - 20s 104ms/step - loss: 0.7462 - accuracy: 0.7397 - val_loss: 0.7926 - val_accuracy: 0.7277\n",
      "Epoch 16/100\n",
      "196/196 [==============================] - 21s 108ms/step - loss: 0.7190 - accuracy: 0.7508 - val_loss: 0.7349 - val_accuracy: 0.7466\n",
      "Epoch 17/100\n",
      "196/196 [==============================] - 20s 104ms/step - loss: 0.7168 - accuracy: 0.7489 - val_loss: 0.7088 - val_accuracy: 0.7569\n",
      "Epoch 18/100\n",
      "196/196 [==============================] - 20s 104ms/step - loss: 0.6888 - accuracy: 0.7580 - val_loss: 0.7075 - val_accuracy: 0.7543\n",
      "Epoch 19/100\n",
      "196/196 [==============================] - 20s 104ms/step - loss: 0.6764 - accuracy: 0.7625 - val_loss: 0.7128 - val_accuracy: 0.7533\n",
      "Epoch 20/100\n",
      "196/196 [==============================] - 20s 104ms/step - loss: 0.6649 - accuracy: 0.7679 - val_loss: 0.6831 - val_accuracy: 0.7676\n",
      "Epoch 21/100\n",
      "196/196 [==============================] - 20s 105ms/step - loss: 0.6475 - accuracy: 0.7740 - val_loss: 0.7113 - val_accuracy: 0.7566\n",
      "Epoch 22/100\n",
      "196/196 [==============================] - 20s 104ms/step - loss: 0.6526 - accuracy: 0.7718 - val_loss: 0.6759 - val_accuracy: 0.7642\n",
      "Epoch 23/100\n",
      "196/196 [==============================] - 21s 106ms/step - loss: 0.6260 - accuracy: 0.7810 - val_loss: 0.6564 - val_accuracy: 0.7760\n",
      "Epoch 24/100\n",
      "196/196 [==============================] - 21s 108ms/step - loss: 0.6132 - accuracy: 0.7856 - val_loss: 0.6922 - val_accuracy: 0.7709\n",
      "Epoch 25/100\n",
      "196/196 [==============================] - 21s 105ms/step - loss: 0.6049 - accuracy: 0.7907 - val_loss: 0.7020 - val_accuracy: 0.7660\n",
      "Epoch 26/100\n",
      "196/196 [==============================] - 21s 106ms/step - loss: 0.6037 - accuracy: 0.7898 - val_loss: 0.6991 - val_accuracy: 0.7671\n",
      "Epoch 27/100\n",
      "196/196 [==============================] - 21s 107ms/step - loss: 0.5990 - accuracy: 0.7929 - val_loss: 0.6567 - val_accuracy: 0.7758\n",
      "Epoch 28/100\n",
      "196/196 [==============================] - 21s 106ms/step - loss: 0.5817 - accuracy: 0.7982 - val_loss: 0.6290 - val_accuracy: 0.7873\n",
      "Epoch 29/100\n",
      "196/196 [==============================] - 20s 105ms/step - loss: 0.5743 - accuracy: 0.8007 - val_loss: 0.6373 - val_accuracy: 0.7827\n",
      "Epoch 30/100\n",
      "196/196 [==============================] - 21s 106ms/step - loss: 0.5663 - accuracy: 0.8053 - val_loss: 0.6503 - val_accuracy: 0.7830\n",
      "Epoch 31/100\n",
      "196/196 [==============================] - 21s 106ms/step - loss: 0.5660 - accuracy: 0.8039 - val_loss: 0.6795 - val_accuracy: 0.7760\n",
      "Epoch 32/100\n",
      "196/196 [==============================] - 20s 104ms/step - loss: 0.5544 - accuracy: 0.8079 - val_loss: 0.6493 - val_accuracy: 0.7795\n",
      "Epoch 33/100\n",
      "196/196 [==============================] - 20s 104ms/step - loss: 0.5398 - accuracy: 0.8125 - val_loss: 0.6292 - val_accuracy: 0.7889\n",
      "Epoch 34/100\n",
      "196/196 [==============================] - 21s 107ms/step - loss: 0.5385 - accuracy: 0.8121 - val_loss: 0.6272 - val_accuracy: 0.7850\n",
      "Epoch 35/100\n",
      "196/196 [==============================] - 21s 105ms/step - loss: 0.5438 - accuracy: 0.8102 - val_loss: 0.6514 - val_accuracy: 0.7810\n",
      "Epoch 36/100\n",
      "196/196 [==============================] - 20s 104ms/step - loss: 0.5328 - accuracy: 0.8159 - val_loss: 0.6263 - val_accuracy: 0.7905\n",
      "Epoch 37/100\n",
      "196/196 [==============================] - 20s 103ms/step - loss: 0.5227 - accuracy: 0.8175 - val_loss: 0.6282 - val_accuracy: 0.7899\n",
      "Epoch 38/100\n",
      "196/196 [==============================] - 20s 104ms/step - loss: 0.5201 - accuracy: 0.8196 - val_loss: 0.6299 - val_accuracy: 0.7930\n",
      "Epoch 39/100\n",
      "196/196 [==============================] - 20s 104ms/step - loss: 0.5109 - accuracy: 0.8243 - val_loss: 0.6449 - val_accuracy: 0.7853\n",
      "Epoch 40/100\n",
      "196/196 [==============================] - 20s 104ms/step - loss: 0.4987 - accuracy: 0.8269 - val_loss: 0.6220 - val_accuracy: 0.7924\n",
      "Epoch 41/100\n",
      "196/196 [==============================] - 20s 104ms/step - loss: 0.4970 - accuracy: 0.8263 - val_loss: 0.6389 - val_accuracy: 0.7901\n",
      "Epoch 42/100\n",
      "196/196 [==============================] - 21s 108ms/step - loss: 0.4922 - accuracy: 0.8308 - val_loss: 0.6521 - val_accuracy: 0.7919\n",
      "Epoch 43/100\n",
      "196/196 [==============================] - 21s 109ms/step - loss: 0.4871 - accuracy: 0.8310 - val_loss: 0.6061 - val_accuracy: 0.7989\n",
      "Epoch 44/100\n",
      "196/196 [==============================] - 23s 118ms/step - loss: 0.4920 - accuracy: 0.8293 - val_loss: 0.6050 - val_accuracy: 0.7980\n",
      "Epoch 45/100\n",
      "196/196 [==============================] - 20s 104ms/step - loss: 0.4792 - accuracy: 0.8338 - val_loss: 0.5891 - val_accuracy: 0.8060\n",
      "Epoch 46/100\n",
      "196/196 [==============================] - 20s 104ms/step - loss: 0.4767 - accuracy: 0.8328 - val_loss: 0.6036 - val_accuracy: 0.8040\n",
      "Epoch 47/100\n",
      "196/196 [==============================] - 21s 106ms/step - loss: 0.4647 - accuracy: 0.8386 - val_loss: 0.6271 - val_accuracy: 0.7964\n",
      "Epoch 48/100\n",
      "196/196 [==============================] - 21s 106ms/step - loss: 0.4674 - accuracy: 0.8349 - val_loss: 0.6087 - val_accuracy: 0.7996\n",
      "Epoch 49/100\n",
      "196/196 [==============================] - 21s 106ms/step - loss: 0.4531 - accuracy: 0.8414 - val_loss: 0.6580 - val_accuracy: 0.7974\n",
      "Epoch 50/100\n",
      "196/196 [==============================] - 21s 105ms/step - loss: 0.4538 - accuracy: 0.8401 - val_loss: 0.6053 - val_accuracy: 0.7988\n",
      "Epoch 51/100\n",
      "196/196 [==============================] - 20s 105ms/step - loss: 0.4583 - accuracy: 0.8420 - val_loss: 0.6070 - val_accuracy: 0.8035\n",
      "Epoch 52/100\n",
      "196/196 [==============================] - 21s 105ms/step - loss: 0.4407 - accuracy: 0.8466 - val_loss: 0.6108 - val_accuracy: 0.8021\n",
      "Epoch 53/100\n",
      "196/196 [==============================] - 21s 107ms/step - loss: 0.4490 - accuracy: 0.8448 - val_loss: 0.6236 - val_accuracy: 0.7965\n",
      "Epoch 54/100\n",
      "196/196 [==============================] - 20s 104ms/step - loss: 0.4533 - accuracy: 0.8434 - val_loss: 0.6446 - val_accuracy: 0.7920\n",
      "Epoch 55/100\n",
      "196/196 [==============================] - 21s 105ms/step - loss: 0.4298 - accuracy: 0.8506 - val_loss: 0.6385 - val_accuracy: 0.7960\n",
      "Epoch 56/100\n",
      "196/196 [==============================] - 20s 104ms/step - loss: 0.4279 - accuracy: 0.8524 - val_loss: 0.6484 - val_accuracy: 0.8003\n"
     ]
    },
    {
     "name": "stdout",
     "output_type": "stream",
     "text": [
      "Epoch 57/100\n",
      "196/196 [==============================] - 21s 105ms/step - loss: 0.4234 - accuracy: 0.8532 - val_loss: 0.6139 - val_accuracy: 0.8018\n",
      "Epoch 58/100\n",
      "196/196 [==============================] - 20s 104ms/step - loss: 0.4238 - accuracy: 0.8520 - val_loss: 0.6074 - val_accuracy: 0.8089\n",
      "Epoch 59/100\n",
      "196/196 [==============================] - 20s 105ms/step - loss: 0.4220 - accuracy: 0.8525 - val_loss: 0.6287 - val_accuracy: 0.7975\n",
      "Epoch 60/100\n",
      "196/196 [==============================] - 21s 106ms/step - loss: 0.4248 - accuracy: 0.8533 - val_loss: 0.6114 - val_accuracy: 0.8079\n",
      "Epoch 61/100\n",
      "196/196 [==============================] - 22s 111ms/step - loss: 0.4147 - accuracy: 0.8570 - val_loss: 0.6143 - val_accuracy: 0.8032\n",
      "Epoch 62/100\n",
      "196/196 [==============================] - 22s 110ms/step - loss: 0.4141 - accuracy: 0.8580 - val_loss: 0.6017 - val_accuracy: 0.8052\n",
      "Epoch 63/100\n",
      "196/196 [==============================] - 21s 105ms/step - loss: 0.4093 - accuracy: 0.8584 - val_loss: 0.6120 - val_accuracy: 0.8042\n",
      "Epoch 64/100\n",
      "196/196 [==============================] - 21s 106ms/step - loss: 0.4083 - accuracy: 0.8573 - val_loss: 0.5959 - val_accuracy: 0.8116\n",
      "Epoch 65/100\n",
      "196/196 [==============================] - 21s 106ms/step - loss: 0.3957 - accuracy: 0.8618 - val_loss: 0.5918 - val_accuracy: 0.8089\n",
      "Epoch 66/100\n",
      "196/196 [==============================] - 21s 106ms/step - loss: 0.3959 - accuracy: 0.8608 - val_loss: 0.6029 - val_accuracy: 0.8102\n",
      "Epoch 67/100\n",
      "196/196 [==============================] - 21s 107ms/step - loss: 0.3922 - accuracy: 0.8639 - val_loss: 0.5927 - val_accuracy: 0.8102\n",
      "Epoch 68/100\n",
      "196/196 [==============================] - 21s 106ms/step - loss: 0.3977 - accuracy: 0.8625 - val_loss: 0.6083 - val_accuracy: 0.8092\n",
      "Epoch 69/100\n",
      "196/196 [==============================] - 21s 106ms/step - loss: 0.3869 - accuracy: 0.8656 - val_loss: 0.6209 - val_accuracy: 0.8074\n",
      "Epoch 70/100\n",
      "196/196 [==============================] - 20s 104ms/step - loss: 0.3878 - accuracy: 0.8659 - val_loss: 0.6211 - val_accuracy: 0.8053\n",
      "Epoch 71/100\n",
      "196/196 [==============================] - 21s 105ms/step - loss: 0.3880 - accuracy: 0.8647 - val_loss: 0.6050 - val_accuracy: 0.8060\n",
      "Epoch 72/100\n",
      "196/196 [==============================] - 20s 104ms/step - loss: 0.3870 - accuracy: 0.8644 - val_loss: 0.6119 - val_accuracy: 0.8070\n",
      "Epoch 73/100\n",
      "196/196 [==============================] - 20s 104ms/step - loss: 0.3760 - accuracy: 0.8704 - val_loss: 0.5918 - val_accuracy: 0.8152\n",
      "Epoch 74/100\n",
      "196/196 [==============================] - 21s 105ms/step - loss: 0.3761 - accuracy: 0.8687 - val_loss: 0.6251 - val_accuracy: 0.8091\n",
      "Epoch 75/100\n",
      "196/196 [==============================] - 21s 105ms/step - loss: 0.3792 - accuracy: 0.8687 - val_loss: 0.6004 - val_accuracy: 0.8115\n",
      "Epoch 76/100\n",
      "196/196 [==============================] - 20s 104ms/step - loss: 0.3698 - accuracy: 0.8718 - val_loss: 0.6357 - val_accuracy: 0.8052\n",
      "Epoch 77/100\n",
      "196/196 [==============================] - 21s 105ms/step - loss: 0.3697 - accuracy: 0.8711 - val_loss: 0.6030 - val_accuracy: 0.8117\n",
      "Epoch 78/100\n",
      "196/196 [==============================] - 20s 103ms/step - loss: 0.3710 - accuracy: 0.8717 - val_loss: 0.6551 - val_accuracy: 0.8034\n",
      "Epoch 79/100\n",
      "196/196 [==============================] - 20s 104ms/step - loss: 0.3646 - accuracy: 0.8733 - val_loss: 0.5888 - val_accuracy: 0.8157\n",
      "Epoch 80/100\n",
      "196/196 [==============================] - 20s 104ms/step - loss: 0.3664 - accuracy: 0.8724 - val_loss: 0.5861 - val_accuracy: 0.8151\n",
      "Epoch 81/100\n",
      "196/196 [==============================] - 21s 105ms/step - loss: 0.3615 - accuracy: 0.8739 - val_loss: 0.6123 - val_accuracy: 0.8131\n",
      "Epoch 82/100\n",
      "196/196 [==============================] - 21s 105ms/step - loss: 0.3617 - accuracy: 0.8745 - val_loss: 0.6289 - val_accuracy: 0.8085\n",
      "Epoch 83/100\n",
      "196/196 [==============================] - 21s 106ms/step - loss: 0.3630 - accuracy: 0.8749 - val_loss: 0.6356 - val_accuracy: 0.8052\n",
      "Epoch 84/100\n",
      "196/196 [==============================] - 22s 110ms/step - loss: 0.3505 - accuracy: 0.8791 - val_loss: 0.5825 - val_accuracy: 0.8201\n",
      "Epoch 85/100\n",
      "196/196 [==============================] - 20s 103ms/step - loss: 0.3523 - accuracy: 0.8781 - val_loss: 0.6078 - val_accuracy: 0.8148\n",
      "Epoch 86/100\n",
      "196/196 [==============================] - 20s 104ms/step - loss: 0.3491 - accuracy: 0.8771 - val_loss: 0.5861 - val_accuracy: 0.8224\n",
      "Epoch 87/100\n",
      "196/196 [==============================] - 20s 103ms/step - loss: 0.3486 - accuracy: 0.8781 - val_loss: 0.6267 - val_accuracy: 0.8118\n",
      "Epoch 88/100\n",
      "196/196 [==============================] - 20s 104ms/step - loss: 0.3415 - accuracy: 0.8809 - val_loss: 0.6927 - val_accuracy: 0.8083\n",
      "Epoch 89/100\n",
      "196/196 [==============================] - 21s 106ms/step - loss: 0.3550 - accuracy: 0.8757 - val_loss: 0.5957 - val_accuracy: 0.8185\n",
      "Epoch 90/100\n",
      "196/196 [==============================] - 21s 105ms/step - loss: 0.3458 - accuracy: 0.8798 - val_loss: 0.6521 - val_accuracy: 0.8061\n",
      "Epoch 91/100\n",
      "196/196 [==============================] - 20s 105ms/step - loss: 0.3359 - accuracy: 0.8834 - val_loss: 0.6061 - val_accuracy: 0.8181\n",
      "Epoch 92/100\n",
      "196/196 [==============================] - 21s 106ms/step - loss: 0.3357 - accuracy: 0.8820 - val_loss: 0.6032 - val_accuracy: 0.8162\n",
      "Epoch 93/100\n",
      "196/196 [==============================] - 20s 104ms/step - loss: 0.3437 - accuracy: 0.8817 - val_loss: 0.5912 - val_accuracy: 0.8171\n",
      "Epoch 94/100\n",
      "196/196 [==============================] - 20s 104ms/step - loss: 0.3374 - accuracy: 0.8835 - val_loss: 0.6646 - val_accuracy: 0.8029\n",
      "Epoch 95/100\n",
      "196/196 [==============================] - 20s 104ms/step - loss: 0.3356 - accuracy: 0.8843 - val_loss: 0.6432 - val_accuracy: 0.8067\n",
      "Epoch 96/100\n",
      "196/196 [==============================] - 21s 105ms/step - loss: 0.3331 - accuracy: 0.8846 - val_loss: 0.6084 - val_accuracy: 0.8204\n",
      "Epoch 97/100\n",
      "196/196 [==============================] - 21s 105ms/step - loss: 0.3295 - accuracy: 0.8853 - val_loss: 0.5959 - val_accuracy: 0.8237\n",
      "Epoch 98/100\n",
      "196/196 [==============================] - 20s 104ms/step - loss: 0.3254 - accuracy: 0.8865 - val_loss: 0.6219 - val_accuracy: 0.8162\n",
      "Epoch 99/100\n",
      "196/196 [==============================] - 21s 106ms/step - loss: 0.3237 - accuracy: 0.8880 - val_loss: 0.6324 - val_accuracy: 0.8125\n",
      "Epoch 100/100\n",
      "196/196 [==============================] - 20s 104ms/step - loss: 0.3152 - accuracy: 0.8909 - val_loss: 0.6372 - val_accuracy: 0.8145\n"
     ]
    },
    {
     "data": {
      "text/plain": [
       "<keras.callbacks.callbacks.History at 0x7fd75804b0b8>"
      ]
     },
     "execution_count": 10,
     "metadata": {},
     "output_type": "execute_result"
    }
   ],
   "source": [
    "print('Using real-time data augmentation.')\n",
    "# This will do preprocessing and realtime data augmentation:\n",
    "datagen = ImageDataGenerator(\n",
    "    featurewise_center=False,  # set input mean to 0 over the dataset\n",
    "    samplewise_center=False,  # set each sample mean to 0\n",
    "    featurewise_std_normalization=False,  # divide inputs by std of the dataset\n",
    "    samplewise_std_normalization=False,  # divide each input by its std\n",
    "    zca_whitening=False,  # apply ZCA whitening\n",
    "    zca_epsilon=1e-06,  # epsilon for ZCA whitening\n",
    "    rotation_range=0,  # randomly rotate images in the range (degrees, 0 to 180)\n",
    "    # randomly shift images horizontally (fraction of total width)\n",
    "    width_shift_range=0.1,\n",
    "    # randomly shift images vertically (fraction of total height)\n",
    "    height_shift_range=0.1,\n",
    "    shear_range=0.,  # set range for random shear\n",
    "    zoom_range=0.,  # set range for random zoom\n",
    "    channel_shift_range=0.,  # set range for random channel shifts\n",
    "    # set mode for filling points outside the input boundaries\n",
    "    fill_mode='nearest',\n",
    "    cval=0.,  # value used for fill_mode = \"constant\"\n",
    "    horizontal_flip=True,  # randomly flip images\n",
    "    vertical_flip=False,  # randomly flip images\n",
    "    # set rescaling factor (applied before any other transformation)\n",
    "    rescale=None,\n",
    "    # set function that will be applied on each input\n",
    "    preprocessing_function=None,\n",
    "    # image data format, either \"channels_first\" or \"channels_last\"\n",
    "    data_format=None,\n",
    "    # fraction of images reserved for validation (strictly between 0 and 1)\n",
    "    validation_split=0.0)\n",
    "\n",
    "# Compute quantities required for feature-wise normalization\n",
    "# (std, mean, and principal components if ZCA whitening is applied).\n",
    "datagen.fit(x_train)\n",
    "\n",
    "# Fit the model on the batches generated by datagen.flow().\n",
    "model.fit_generator(datagen.flow(x_train, y_train,\n",
    "                                 batch_size=batch_size),\n",
    "                    steps_per_epoch=int(np.ceil(x_train.shape[0]/batch_size)),\n",
    "                    epochs=epochs,\n",
    "                    validation_data=(x_test, y_test),\n",
    "                    workers=4)"
   ]
  },
  {
   "cell_type": "code",
   "execution_count": 11,
   "metadata": {},
   "outputs": [
    {
     "name": "stdout",
     "output_type": "stream",
     "text": [
      "Saved model to disk\n"
     ]
    }
   ],
   "source": [
    "# serialize model to JSON\n",
    "model_json = model.to_json()\n",
    "with open(\"/home/jiameng/packages/ReachNN/ReachNN-CNN/model/model_CIFAR_CNN_Large.json\", \"w\") as json_file:\n",
    "    json_file.write(model_json)\n",
    "# serialize weights to HDF5\n",
    "model.save_weights(\"/home/jiameng/packages/ReachNN/ReachNN-CNN/model/model_CIFAR_CNN_Large.h5\")\n",
    "print(\"Saved model to disk\")"
   ]
  },
  {
   "cell_type": "code",
   "execution_count": null,
   "metadata": {},
   "outputs": [],
   "source": []
  }
 ],
 "metadata": {
  "kernelspec": {
   "display_name": "Bernsp",
   "language": "python",
   "name": "bernsp"
  },
  "language_info": {
   "codemirror_mode": {
    "name": "ipython",
    "version": 3
   },
   "file_extension": ".py",
   "mimetype": "text/x-python",
   "name": "python",
   "nbconvert_exporter": "python",
   "pygments_lexer": "ipython3",
   "version": "3.6.7"
  }
 },
 "nbformat": 4,
 "nbformat_minor": 2
}
